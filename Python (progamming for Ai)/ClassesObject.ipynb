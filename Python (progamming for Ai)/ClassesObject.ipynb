{
 "cells": [
  {
   "cell_type": "code",
   "execution_count": 2,
   "id": "30c636ee",
   "metadata": {},
   "outputs": [
    {
     "name": "stdout",
     "output_type": "stream",
     "text": [
      "AoA, my name is Ali\n"
     ]
    }
   ],
   "source": [
    "# A Sample class with init method\n",
    "class Person:\n",
    " \n",
    "    # init method or constructor\n",
    "    def __init__(self, name):\n",
    "        self.name = name\n",
    " \n",
    "    # Sample Method\n",
    "    def say_hi(self):\n",
    "        print('AoA, my name is', self.name)\n",
    " \n",
    " \n",
    "p = Person('Ali')\n",
    "p.say_hi()"
   ]
  },
  {
   "cell_type": "code",
   "execution_count": 4,
   "id": "c6a6d51b",
   "metadata": {},
   "outputs": [
    {
     "name": "stdout",
     "output_type": "stream",
     "text": [
      "AoA, my name is Ali\n",
      "AoA, my name is Fatima\n",
      "AoA, my name is Hamza\n"
     ]
    }
   ],
   "source": [
    "# A Sample class with init method\n",
    "class Person:\n",
    " \n",
    "    # init method or constructor\n",
    "    def __init__(self, name):\n",
    "        self.name = name\n",
    " \n",
    "    # Sample Method\n",
    "    def say_hi(self):\n",
    "        print('AoA, my name is', self.name)\n",
    " \n",
    " \n",
    "# Creating different objects\n",
    "p1 = Person('Ali')\n",
    "p2 = Person('Fatima')\n",
    "p3 = Person('Hamza')\n",
    " \n",
    "p1.say_hi()\n",
    "p2.say_hi()\n",
    "p3.say_hi()"
   ]
  },
  {
   "cell_type": "code",
   "execution_count": 5,
   "id": "f879aac9",
   "metadata": {},
   "outputs": [
    {
     "name": "stdout",
     "output_type": "stream",
     "text": [
      "17\n"
     ]
    }
   ],
   "source": [
    "class mynumber:\n",
    "    def __init__(self, value):\n",
    "        self.value = value\n",
    "     \n",
    "    def print_value(self):\n",
    "        print(self.value)\n",
    " \n",
    "obj1 = mynumber(17)\n",
    "obj1.print_value()"
   ]
  },
  {
   "cell_type": "code",
   "execution_count": 6,
   "id": "34d10026",
   "metadata": {},
   "outputs": [
    {
     "name": "stdout",
     "output_type": "stream",
     "text": [
      "Maths\n",
      "Science\n"
     ]
    }
   ],
   "source": [
    "class Subject:\n",
    " \n",
    "    def __init__(self, attr1, attr2):\n",
    "        self.attr1 = attr1\n",
    "        self.attr2 = attr2\n",
    " \n",
    " \n",
    "obj = Subject('Maths', 'Science')\n",
    "print(obj.attr1) \n",
    "print(obj.attr2)"
   ]
  },
  {
   "cell_type": "code",
   "execution_count": 2,
   "id": "5d085318",
   "metadata": {},
   "outputs": [
    {
     "name": "stdout",
     "output_type": "stream",
     "text": [
      "Address of self =  1579198675504\n",
      "Address of class object =  1579198675504\n"
     ]
    }
   ],
   "source": [
    "class check:\n",
    "    def __init__(self):\n",
    "        print(\"Address of self = \",id(self))\n",
    " \n",
    "obj = check()\n",
    "print(\"Address of class object = \",id(obj))"
   ]
  },
  {
   "cell_type": "code",
   "execution_count": 8,
   "id": "3f842a56",
   "metadata": {},
   "outputs": [
    {
     "name": "stdout",
     "output_type": "stream",
     "text": [
      "Model is audi a4\n",
      "color is blue\n",
      "Model is ferrari 488\n",
      "color is green\n",
      "Model for audi is  audi a4\n",
      "Colour for ferrari is  green\n"
     ]
    }
   ],
   "source": [
    "class car():\n",
    "     \n",
    "    # init method or constructor\n",
    "    def __init__(self, model, color):\n",
    "        self.model = model\n",
    "        self.color = color\n",
    "         \n",
    "    def show(self):\n",
    "        print(\"Model is\", self.model )\n",
    "        print(\"color is\", self.color )\n",
    "         \n",
    "# both objects have different self which contain their attributes\n",
    "audi = car(\"audi a4\", \"blue\")\n",
    "ferrari = car(\"ferrari 488\", \"green\")\n",
    " \n",
    "audi.show()     # same output as car.show(audi)\n",
    "ferrari.show()  # same output as car.show(ferrari)\n",
    " \n",
    "print(\"Model for audi is \",audi.model)\n",
    "print(\"Colour for ferrari is \",ferrari.color)"
   ]
  },
  {
   "cell_type": "code",
   "execution_count": 12,
   "id": "70c08044",
   "metadata": {},
   "outputs": [
    {
     "ename": "SyntaxError",
     "evalue": "invalid syntax (1669081206.py, line 17)",
     "output_type": "error",
     "traceback": [
      "\u001b[1;36m  Cell \u001b[1;32mIn[12], line 17\u001b[1;36m\u001b[0m\n\u001b[1;33m    print (set5  set4)\u001b[0m\n\u001b[1;37m                 ^\u001b[0m\n\u001b[1;31mSyntaxError\u001b[0m\u001b[1;31m:\u001b[0m invalid syntax\n"
     ]
    }
   ],
   "source": [
    "set1 = {1, 2, 3, {4, 5}}\n",
    "set2 = {3, 4, {5, 6, {7, 8}}}\n",
    "set3 = {{9, 10}, {11, {12, 13}}, 14}\n",
    "set4 = set([1,2,3,4,5,1,2])\n",
    "set5 = set([6,7,8,3,4,5,6,2])\n",
    "element1 = 4 in set1  \n",
    "element2 = 8 in set2  \n",
    "element3 = {12, 13} in set3\n",
    "set3.remove((11))\n",
    "print (set3)\n",
    "print (element1)\n",
    "print (element2)\n",
    "print (element3)\n",
    "print (set5 ^ set4)\n",
    "print (set4 | set5)\n",
    "print (set4 & set5)\n",
    "print (set5  set4)\n"
   ]
  },
  {
   "cell_type": "code",
   "execution_count": 30,
   "id": "7f56c184",
   "metadata": {},
   "outputs": [
    {
     "ename": "SyntaxError",
     "evalue": "invalid character '‘' (U+2018) (1752448357.py, line 24)",
     "output_type": "error",
     "traceback": [
      "\u001b[1;36m  Cell \u001b[1;32mIn[30], line 24\u001b[1;36m\u001b[0m\n\u001b[1;33m    print (company_structure[‘Teams’])\u001b[0m\n\u001b[1;37m                             ^\u001b[0m\n\u001b[1;31mSyntaxError\u001b[0m\u001b[1;31m:\u001b[0m invalid character '‘' (U+2018)\n"
     ]
    }
   ],
   "source": [
    "company_structure = {\n",
    "    \"CEO\": {\n",
    "        \"Name\": \"John Doe\",\n",
    "        \"Departments\": {\n",
    "            \"Engineering\": {\n",
    "                \"Managers\": [\"Alice\", \"Bob\"],\n",
    "                \"Teams\": {\n",
    "                    \"Frontend\": [\"Eva\", \"Frank\"],\n",
    "                    \"Backend\": [\"Grace\", \"Harry\"]\n",
    "                }\n",
    "            },\n",
    "            \"Sales\": {\n",
    "                \"Managers\": [\"Cathy\", \"David\"],\n",
    "                \"Teams\": {\n",
    "                    \"Domestic\": [\"Ivy\", \"Jack\"],\n",
    "                    \"International\": [\"Kevin\", \"Linda\"]\n",
    "                }\n",
    "            }\n",
    "        }\n",
    "    }\n",
    "}\n",
    "\n",
    "print (company_structure.keys())\n",
    "print (company_structure[‘Teams’])\n",
    "print (company_structure[‘Sales’])\n",
    "print (company_structure[‘Departments’].values())\n",
    "print (company_structure[‘CEO’].keys())\n",
    "print (company_structure[‘Managers].values())\n",
    "print (company_structure[‘Departments’][‘ Engineering’].values())\n",
    "print (company_structure[‘Departments’][‘ Engineering’][‘Teams’][1])\n",
    "print (company_structure[‘Departments’][‘ Engineering’][‘Teams’]\n",
    "[‘Frontend’][1])\n",
    "print (company_structure[‘Sales][‘Teams’][‘Domestic’].keys())"
   ]
  },
  {
   "cell_type": "code",
   "execution_count": 31,
   "id": "76f737f4",
   "metadata": {},
   "outputs": [
    {
     "name": "stdout",
     "output_type": "stream",
     "text": [
      "Keys in company_structure: dict_keys(['CEO'])\n",
      "Keys under CEO: dict_keys(['Name', 'Departments'])\n",
      "Values under Departments: dict_values([{'Managers': ['Alice', 'Bob'], 'Teams': {'Frontend': ['Eva', 'Frank'], 'Backend': ['Grace', 'Harry']}}, {'Managers': ['Cathy', 'David'], 'Teams': {'Domestic': ['Ivy', 'Jack'], 'International': ['Kevin', 'Linda']}}])\n"
     ]
    },
    {
     "ename": "AttributeError",
     "evalue": "'list' object has no attribute 'values'",
     "output_type": "error",
     "traceback": [
      "\u001b[1;31m---------------------------------------------------------------------------\u001b[0m",
      "\u001b[1;31mAttributeError\u001b[0m                            Traceback (most recent call last)",
      "Cell \u001b[1;32mIn[31], line 29\u001b[0m\n\u001b[0;32m     26\u001b[0m \u001b[38;5;28mprint\u001b[39m(\u001b[38;5;124m\"\u001b[39m\u001b[38;5;124mValues under Departments:\u001b[39m\u001b[38;5;124m\"\u001b[39m, company_structure[\u001b[38;5;124m\"\u001b[39m\u001b[38;5;124mCEO\u001b[39m\u001b[38;5;124m\"\u001b[39m][\u001b[38;5;124m\"\u001b[39m\u001b[38;5;124mDepartments\u001b[39m\u001b[38;5;124m\"\u001b[39m]\u001b[38;5;241m.\u001b[39mvalues())\n\u001b[0;32m     28\u001b[0m \u001b[38;5;66;03m# 2. Corrected:\u001b[39;00m\n\u001b[1;32m---> 29\u001b[0m \u001b[38;5;28mprint\u001b[39m(\u001b[38;5;124m\"\u001b[39m\u001b[38;5;124mManagers under Engineering:\u001b[39m\u001b[38;5;124m\"\u001b[39m, \u001b[43mcompany_structure\u001b[49m\u001b[43m[\u001b[49m\u001b[38;5;124;43m\"\u001b[39;49m\u001b[38;5;124;43mCEO\u001b[39;49m\u001b[38;5;124;43m\"\u001b[39;49m\u001b[43m]\u001b[49m\u001b[43m[\u001b[49m\u001b[38;5;124;43m\"\u001b[39;49m\u001b[38;5;124;43mDepartments\u001b[39;49m\u001b[38;5;124;43m\"\u001b[39;49m\u001b[43m]\u001b[49m\u001b[43m[\u001b[49m\u001b[38;5;124;43m\"\u001b[39;49m\u001b[38;5;124;43mEngineering\u001b[39;49m\u001b[38;5;124;43m\"\u001b[39;49m\u001b[43m]\u001b[49m\u001b[43m[\u001b[49m\u001b[38;5;124;43m\"\u001b[39;49m\u001b[38;5;124;43mManagers\u001b[39;49m\u001b[38;5;124;43m\"\u001b[39;49m\u001b[43m]\u001b[49m\u001b[38;5;241;43m.\u001b[39;49m\u001b[43mvalues\u001b[49m())\n\u001b[0;32m     31\u001b[0m \u001b[38;5;66;03m# 3. Corrected and removed the space:\u001b[39;00m\n\u001b[0;32m     32\u001b[0m \u001b[38;5;28mprint\u001b[39m(\u001b[38;5;124m\"\u001b[39m\u001b[38;5;124mValues under Engineering:\u001b[39m\u001b[38;5;124m\"\u001b[39m, company_structure[\u001b[38;5;124m\"\u001b[39m\u001b[38;5;124mCEO\u001b[39m\u001b[38;5;124m\"\u001b[39m][\u001b[38;5;124m\"\u001b[39m\u001b[38;5;124mDepartments\u001b[39m\u001b[38;5;124m\"\u001b[39m][\u001b[38;5;124m\"\u001b[39m\u001b[38;5;124mEngineering\u001b[39m\u001b[38;5;124m\"\u001b[39m]\u001b[38;5;241m.\u001b[39mvalues())\n",
      "\u001b[1;31mAttributeError\u001b[0m: 'list' object has no attribute 'values'"
     ]
    }
   ],
   "source": [
    "company_structure = {\n",
    "    \"CEO\": {\n",
    "        \"Name\": \"John Doe\",\n",
    "        \"Departments\": {\n",
    "            \"Engineering\": {\n",
    "                \"Managers\": [\"Alice\", \"Bob\"],\n",
    "                \"Teams\": {\n",
    "                    \"Frontend\": [\"Eva\", \"Frank\"],\n",
    "                    \"Backend\": [\"Grace\", \"Harry\"]\n",
    "                }\n",
    "            },\n",
    "            \"Sales\": {\n",
    "                \"Managers\": [\"Cathy\", \"David\"],\n",
    "                \"Teams\": {\n",
    "                    \"Domestic\": [\"Ivy\", \"Jack\"],\n",
    "                    \"International\": [\"Kevin\", \"Linda\"]\n",
    "                }\n",
    "            }\n",
    "        }\n",
    "    }\n",
    "}\n",
    "\n",
    "# 1. Corrected and simplified prints:\n",
    "print(\"Keys in company_structure:\", company_structure.keys())\n",
    "print(\"Keys under CEO:\", company_structure[\"CEO\"].keys())\n",
    "print(\"Values under Departments:\", company_structure[\"CEO\"][\"Departments\"].values())\n",
    "\n",
    "# 2. Corrected:\n",
    "print(\"Managers under Engineering:\", company_structure[\"CEO\"][\"Departments\"][\"Engineering\"][\"Managers\"].values())\n",
    "\n",
    "# 3. Corrected and removed the space:\n",
    "print(\"Values under Engineering:\", company_structure[\"CEO\"][\"Departments\"][\"Engineering\"].values())\n",
    "\n",
    "# 4. Accessing elements within lists:\n",
    "print(\"Second item in Teams under Engineering:\", company_structure[\"CEO\"][\"Departments\"][\"Engineering\"][\"Teams\"][\"Backend\"][1])\n"
   ]
  },
  {
   "cell_type": "code",
   "execution_count": 33,
   "id": "7d79c77d",
   "metadata": {},
   "outputs": [
    {
     "ename": "TypeError",
     "evalue": "unhashable type: 'set'",
     "output_type": "error",
     "traceback": [
      "\u001b[1;31m---------------------------------------------------------------------------\u001b[0m",
      "\u001b[1;31mTypeError\u001b[0m                                 Traceback (most recent call last)",
      "Cell \u001b[1;32mIn[33], line 1\u001b[0m\n\u001b[1;32m----> 1\u001b[0m set1 \u001b[38;5;241m=\u001b[39m {\u001b[38;5;241m1\u001b[39m, \u001b[38;5;241m2\u001b[39m, \u001b[38;5;241m3\u001b[39m, {\u001b[38;5;241m4\u001b[39m, \u001b[38;5;241m5\u001b[39m}}\n\u001b[0;32m      2\u001b[0m set2 \u001b[38;5;241m=\u001b[39m {\u001b[38;5;241m3\u001b[39m, \u001b[38;5;241m4\u001b[39m, {\u001b[38;5;241m5\u001b[39m, \u001b[38;5;241m6\u001b[39m, {\u001b[38;5;241m7\u001b[39m, \u001b[38;5;241m8\u001b[39m}}}\n\u001b[0;32m      3\u001b[0m set3 \u001b[38;5;241m=\u001b[39m {{\u001b[38;5;241m9\u001b[39m, \u001b[38;5;241m10\u001b[39m}, {\u001b[38;5;241m11\u001b[39m, {\u001b[38;5;241m12\u001b[39m, \u001b[38;5;241m13\u001b[39m}}, \u001b[38;5;241m14\u001b[39m}\n",
      "\u001b[1;31mTypeError\u001b[0m: unhashable type: 'set'"
     ]
    }
   ],
   "source": [
    "set1 = {1, 2, 3, {4, 5}}\n",
    "set2 = {3, 4, {5, 6, {7, 8}}}\n",
    "set3 = {{9, 10}, {11, {12, 13}}, 14}\n",
    "set4 = set([1,2,3,4,5,1,2])\n",
    "set5 = set([6,7,8,3,4,5,6,2])\n",
    "element1 = 4 in set1  \n",
    "element2 = 8 in set2  \n",
    "element3 = {12, 13} in set3\n",
    "set3.remove((11))\n",
    "print (set3)\n",
    "print (element1)\n",
    "print (element2)\n",
    "print (element3)\n",
    "print (set5 ^ set4)\n",
    "print (set4 | set5)\n",
    "print (set4 & set5)\n",
    "print (set5 - set4)\n"
   ]
  },
  {
   "cell_type": "code",
   "execution_count": null,
   "id": "abef3bb4",
   "metadata": {},
   "outputs": [],
   "source": []
  }
 ],
 "metadata": {
  "kernelspec": {
   "display_name": "Python 3 (ipykernel)",
   "language": "python",
   "name": "python3"
  },
  "language_info": {
   "codemirror_mode": {
    "name": "ipython",
    "version": 3
   },
   "file_extension": ".py",
   "mimetype": "text/x-python",
   "name": "python",
   "nbconvert_exporter": "python",
   "pygments_lexer": "ipython3",
   "version": "3.11.4"
  }
 },
 "nbformat": 4,
 "nbformat_minor": 5
}

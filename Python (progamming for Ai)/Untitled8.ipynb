{
 "cells": [
  {
   "cell_type": "code",
   "execution_count": 2,
   "id": "55dae7a2",
   "metadata": {},
   "outputs": [
    {
     "name": "stdout",
     "output_type": "stream",
     "text": [
      "Enter the number of values to check: 100\n",
      "25\n",
      "Input value: 25\n",
      "Missed it by that much (4)! The closest prime is 29.\n",
      "\n"
     ]
    },
    {
     "ename": "KeyboardInterrupt",
     "evalue": "Interrupted by user",
     "output_type": "error",
     "traceback": [
      "\u001b[1;31m---------------------------------------------------------------------------\u001b[0m",
      "\u001b[1;31mKeyboardInterrupt\u001b[0m                         Traceback (most recent call last)",
      "Cell \u001b[1;32mIn[2], line 4\u001b[0m\n\u001b[0;32m      1\u001b[0m n \u001b[38;5;241m=\u001b[39m \u001b[38;5;28mint\u001b[39m(\u001b[38;5;28minput\u001b[39m(\u001b[38;5;124m\"\u001b[39m\u001b[38;5;124mEnter the number of values to check: \u001b[39m\u001b[38;5;124m\"\u001b[39m))\n\u001b[0;32m      3\u001b[0m \u001b[38;5;28;01mfor\u001b[39;00m _ \u001b[38;5;129;01min\u001b[39;00m \u001b[38;5;28mrange\u001b[39m(n):\n\u001b[1;32m----> 4\u001b[0m     value \u001b[38;5;241m=\u001b[39m \u001b[38;5;28mint\u001b[39m(\u001b[38;5;28minput\u001b[39m())\n\u001b[0;32m      5\u001b[0m     \u001b[38;5;28mprint\u001b[39m(\u001b[38;5;124mf\u001b[39m\u001b[38;5;124m\"\u001b[39m\u001b[38;5;124mInput value: \u001b[39m\u001b[38;5;132;01m{\u001b[39;00mvalue\u001b[38;5;132;01m}\u001b[39;00m\u001b[38;5;124m\"\u001b[39m)\n\u001b[0;32m      7\u001b[0m     count \u001b[38;5;241m=\u001b[39m \u001b[38;5;241m0\u001b[39m\n",
      "File \u001b[1;32mC:\\New folder\\Lib\\site-packages\\ipykernel\\kernelbase.py:1175\u001b[0m, in \u001b[0;36mKernel.raw_input\u001b[1;34m(self, prompt)\u001b[0m\n\u001b[0;32m   1171\u001b[0m \u001b[38;5;28;01mif\u001b[39;00m \u001b[38;5;129;01mnot\u001b[39;00m \u001b[38;5;28mself\u001b[39m\u001b[38;5;241m.\u001b[39m_allow_stdin:\n\u001b[0;32m   1172\u001b[0m     \u001b[38;5;28;01mraise\u001b[39;00m StdinNotImplementedError(\n\u001b[0;32m   1173\u001b[0m         \u001b[38;5;124m\"\u001b[39m\u001b[38;5;124mraw_input was called, but this frontend does not support input requests.\u001b[39m\u001b[38;5;124m\"\u001b[39m\n\u001b[0;32m   1174\u001b[0m     )\n\u001b[1;32m-> 1175\u001b[0m \u001b[38;5;28;01mreturn\u001b[39;00m \u001b[38;5;28mself\u001b[39m\u001b[38;5;241m.\u001b[39m_input_request(\n\u001b[0;32m   1176\u001b[0m     \u001b[38;5;28mstr\u001b[39m(prompt),\n\u001b[0;32m   1177\u001b[0m     \u001b[38;5;28mself\u001b[39m\u001b[38;5;241m.\u001b[39m_parent_ident[\u001b[38;5;124m\"\u001b[39m\u001b[38;5;124mshell\u001b[39m\u001b[38;5;124m\"\u001b[39m],\n\u001b[0;32m   1178\u001b[0m     \u001b[38;5;28mself\u001b[39m\u001b[38;5;241m.\u001b[39mget_parent(\u001b[38;5;124m\"\u001b[39m\u001b[38;5;124mshell\u001b[39m\u001b[38;5;124m\"\u001b[39m),\n\u001b[0;32m   1179\u001b[0m     password\u001b[38;5;241m=\u001b[39m\u001b[38;5;28;01mFalse\u001b[39;00m,\n\u001b[0;32m   1180\u001b[0m )\n",
      "File \u001b[1;32mC:\\New folder\\Lib\\site-packages\\ipykernel\\kernelbase.py:1217\u001b[0m, in \u001b[0;36mKernel._input_request\u001b[1;34m(self, prompt, ident, parent, password)\u001b[0m\n\u001b[0;32m   1214\u001b[0m             \u001b[38;5;28;01mbreak\u001b[39;00m\n\u001b[0;32m   1215\u001b[0m \u001b[38;5;28;01mexcept\u001b[39;00m \u001b[38;5;167;01mKeyboardInterrupt\u001b[39;00m:\n\u001b[0;32m   1216\u001b[0m     \u001b[38;5;66;03m# re-raise KeyboardInterrupt, to truncate traceback\u001b[39;00m\n\u001b[1;32m-> 1217\u001b[0m     \u001b[38;5;28;01mraise\u001b[39;00m \u001b[38;5;167;01mKeyboardInterrupt\u001b[39;00m(\u001b[38;5;124m\"\u001b[39m\u001b[38;5;124mInterrupted by user\u001b[39m\u001b[38;5;124m\"\u001b[39m) \u001b[38;5;28;01mfrom\u001b[39;00m \u001b[38;5;28;01mNone\u001b[39;00m\n\u001b[0;32m   1218\u001b[0m \u001b[38;5;28;01mexcept\u001b[39;00m \u001b[38;5;167;01mException\u001b[39;00m:\n\u001b[0;32m   1219\u001b[0m     \u001b[38;5;28mself\u001b[39m\u001b[38;5;241m.\u001b[39mlog\u001b[38;5;241m.\u001b[39mwarning(\u001b[38;5;124m\"\u001b[39m\u001b[38;5;124mInvalid Message:\u001b[39m\u001b[38;5;124m\"\u001b[39m, exc_info\u001b[38;5;241m=\u001b[39m\u001b[38;5;28;01mTrue\u001b[39;00m)\n",
      "\u001b[1;31mKeyboardInterrupt\u001b[0m: Interrupted by user"
     ]
    }
   ],
   "source": [
    "n = int(input(\"Enter the number of values to check: \"))\n",
    "\n",
    "for _ in range(n):\n",
    "    value = int(input())\n",
    "    print(f\"Input value: {value}\")\n",
    "\n",
    "    count = 0\n",
    "    for i in range(1, value + 1):\n",
    "        if value % i == 0:\n",
    "            count += 1\n",
    "\n",
    "    if count == 2:\n",
    "        print(f\"Would you believe it; {value} is a prime!\")\n",
    "    else:\n",
    "        # Find the closest smaller prime\n",
    "        smaller_prime = value - 1\n",
    "        count = 0\n",
    "        while smaller_prime >= 2:\n",
    "            if value % smaller_prime == 0:\n",
    "                count += 1\n",
    "            if count == 2:\n",
    "                break\n",
    "            smaller_prime -= 1\n",
    "\n",
    "        # Find the closest larger prime\n",
    "        larger_prime = value + 1\n",
    "        count = 0\n",
    "        while True:\n",
    "            for i in range(2, int(larger_prime ** 0.5) + 1):\n",
    "                if larger_prime % i == 0:\n",
    "                    count += 1\n",
    "                    break\n",
    "            if count == 0:\n",
    "                break\n",
    "            count = 0\n",
    "            larger_prime += 1\n",
    "\n",
    "        # Calculate how close the number is to a prime\n",
    "        if value - smaller_prime <= larger_prime - value:\n",
    "            print(f\"Missed it by that much ({value - smaller_prime})! The closest prime is {smaller_prime}.\")\n",
    "        else:\n",
    "            print(f\"Missed it by that much ({larger_prime - value})! The closest prime is {larger_prime}.\")\n",
    "\n",
    "    print()  # Blank line after each test case\n"
   ]
  },
  {
   "cell_type": "code",
   "execution_count": 4,
   "id": "1216e5c2",
   "metadata": {},
   "outputs": [
    {
     "name": "stdout",
     "output_type": "stream",
     "text": [
      "[1, 2, 3, 54, 5, 6, 8, 56, 44, 1, 1, 1, 1, 1, 1, 8, 9, 10]\n",
      "programmming: 1\n",
      "is: 1\n",
      "fun: 1\n",
      "[58, 64]\n",
      "[139, 154]\n"
     ]
    }
   ],
   "source": [
    "# Part A: Flattening a Nested List\n",
    "input_list = [1, 2, 3, [54, 5, 6, 8], [56, 44], [1, 1, 1, 1, 1, 1], 8, 9, 10]\n",
    "\n",
    "# Flatten the nested list using list comprehension\n",
    "flattened_list = [num for sublist in input_list for num in (sublist if isinstance(sublist, list) else [sublist])]\n",
    "\n",
    "# Print the flattened list\n",
    "print(flattened_list)\n",
    "\n",
    "# Part B: Word Frequency Analysis\n",
    "text = \"Programmming is fun.\"\n",
    "\n",
    "# Split the text into words (tokenization) and remove common punctuation characters\n",
    "punctuation = \".,/!?@[]{}():';\\\"\"\n",
    "words = text.lower().split()\n",
    "word_freq = {}\n",
    "\n",
    "for word in words:\n",
    "    # Remove punctuation characters from the beginning and end of each word\n",
    "    while word and word[0] in punctuation:\n",
    "        word = word[1:]\n",
    "    while word and word[-1] in punctuation:\n",
    "        word = word[:-1]\n",
    "    \n",
    "    # Update word frequencies in the dictionary\n",
    "    if word:\n",
    "        if word in word_freq:\n",
    "            word_freq[word] += 1\n",
    "        else:\n",
    "            word_freq[word] = 1\n",
    "\n",
    "# Sort the word-frequency pairs by frequency in descending order\n",
    "sorted_words = sorted(word_freq.items(), key=lambda x: x[1], reverse=True)\n",
    "\n",
    "# Print the result\n",
    "for word, freq in sorted_words:\n",
    "    print(f\"{word}: {freq}\")\n",
    "\n",
    "# Part C: Matrix Multiplication\n",
    "def matrix_multiply(matrix1, matrix2):\n",
    "    # Check if matrix multiplication is valid\n",
    "    if len(matrix1[0]) != len(matrix2):\n",
    "        raise ValueError(\"Matrix dimensions are not compatible for multiplication\")\n",
    "    # Perform matrix multiplication using list comprehension\n",
    "    result = [[sum(matrix1[i][k] * matrix2[k][j] for k in range(len(matrix2))) for j in range(len(matrix2[0]))] for i in range(len(matrix1))]\n",
    "    return result\n",
    "# Example usage:\n",
    "matrix1 = [[1, 2, 3], [4, 5, 6]]\n",
    "matrix2 = [[7, 8], [9, 10], [11, 12]]\n",
    "\n",
    "result = matrix_multiply(matrix1, matrix2)\n",
    "\n",
    "# Print the result\n",
    "for row in result:\n",
    "    print(row)\n",
    "\n"
   ]
  },
  {
   "cell_type": "code",
   "execution_count": null,
   "id": "a71b26b6",
   "metadata": {},
   "outputs": [],
   "source": []
  }
 ],
 "metadata": {
  "kernelspec": {
   "display_name": "Python 3 (ipykernel)",
   "language": "python",
   "name": "python3"
  },
  "language_info": {
   "codemirror_mode": {
    "name": "ipython",
    "version": 3
   },
   "file_extension": ".py",
   "mimetype": "text/x-python",
   "name": "python",
   "nbconvert_exporter": "python",
   "pygments_lexer": "ipython3",
   "version": "3.11.4"
  }
 },
 "nbformat": 4,
 "nbformat_minor": 5
}

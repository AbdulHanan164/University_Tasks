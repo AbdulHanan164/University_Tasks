{
 "cells": [
  {
   "cell_type": "code",
   "execution_count": null,
   "id": "92be54f3",
   "metadata": {},
   "outputs": [],
   "source": [
    "matric=([0]*3 for _ in range (3))\n",
    "for i in range(3):\n",
    "    for j in range(3):\n",
    "        matric[i][j]=int(input(f\"Enter at the place ({i+1},{j+1}):\")\n",
    "for i in range(3):\n",
    "        "
   ]
  }
 ],
 "metadata": {
  "kernelspec": {
   "display_name": "Python 3 (ipykernel)",
   "language": "python",
   "name": "python3"
  },
  "language_info": {
   "codemirror_mode": {
    "name": "ipython",
    "version": 3
   },
   "file_extension": ".py",
   "mimetype": "text/x-python",
   "name": "python",
   "nbconvert_exporter": "python",
   "pygments_lexer": "ipython3",
   "version": "3.11.4"
  }
 },
 "nbformat": 4,
 "nbformat_minor": 5
}

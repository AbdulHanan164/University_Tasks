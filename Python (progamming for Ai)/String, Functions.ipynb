{
 "cells": [
  {
   "cell_type": "code",
   "execution_count": 1,
   "id": "c79c2bf9",
   "metadata": {},
   "outputs": [
    {
     "name": "stdout",
     "output_type": "stream",
     "text": [
      "the Pervious number is 0 is: 0\n",
      "the Sum of 0 is: 0\n",
      "the Pervious number is 1 is: 0\n",
      "the Sum of 1 is: 1\n",
      "the Pervious number is 2 is: 1\n",
      "the Sum of 2 is: 3\n",
      "the Pervious number is 3 is: 3\n",
      "the Sum of 3 is: 6\n",
      "the Pervious number is 4 is: 6\n",
      "the Sum of 4 is: 10\n",
      "the Pervious number is 5 is: 10\n",
      "the Sum of 5 is: 15\n",
      "the Pervious number is 6 is: 15\n",
      "the Sum of 6 is: 21\n",
      "the Pervious number is 7 is: 21\n",
      "the Sum of 7 is: 28\n",
      "the Pervious number is 8 is: 28\n",
      "the Sum of 8 is: 36\n",
      "the Pervious number is 9 is: 36\n",
      "the Sum of 9 is: 45\n"
     ]
    }
   ],
   "source": [
    "#Task 1\n",
    "sum=0\n",
    "pervious=0\n",
    "for i in range(0,10):\n",
    "    print(f\"the Pervious number is {i} is:\",pervious)\n",
    "    sum+=i#it will sum first 10 numbers in sum varaible\n",
    "    print(f\"the Sum of {i} is:\",sum)\n",
    "    pervious=sum#it will assign sum to pervious \n"
   ]
  },
  {
   "cell_type": "code",
   "execution_count": null,
   "id": "1f916ae2",
   "metadata": {},
   "outputs": [],
   "source": [
    "str=(input(\"Enter the string\"))#input Sting\n",
    "for i in range (0,len(str)):\n",
    "    if i%2==0:#if index number reminder is 0 then it will print that index value\n",
    "        print(str[i],end=\" \")\n"
   ]
  },
  {
   "cell_type": "code",
   "execution_count": null,
   "id": "55b9bbea",
   "metadata": {},
   "outputs": [],
   "source": [
    "#Task 3\n",
    "str=input(\"Enter the string :\")\n",
    "num=int(input(\"Enter number you want to remove: \"))\n",
    "str2={}#intialize two strings lists 1 is filled and 1 is empty and number to reomove\n",
    "for i in range(num,len(str)):#it will run num to the length of str\n",
    "    str2[i]=str[i]#assign array to str2\n",
    "    print(f\"string after Removing {num} is :\",str2[i])\n"
   ]
  },
  {
   "cell_type": "code",
   "execution_count": null,
   "id": "ab9df90c",
   "metadata": {},
   "outputs": [],
   "source": [
    "#Task 4\n",
    "lst=[10,20,30,40,10]\n",
    "num=0\n",
    "last_num=0\n",
    "for i in range (0,len(lst)):\n",
    "    num=lst[0]\n",
    "    last_num=lst[-1]#it will check the index[0] to index [-1] first and last index\n",
    "    if num==last_num:\n",
    "        print(\"True\")\n",
    "        break\n",
    "    else:\n",
    "        print(\"False\")\n"
   ]
  },
  {
   "cell_type": "code",
   "execution_count": null,
   "id": "e43978e7",
   "metadata": {},
   "outputs": [],
   "source": [
    "#Task 5\n",
    "lst_1=[10,20,25,30,35]\n",
    "lst_2=[40,45,60,75,90]\n",
    "lst_3=[]\n",
    "for i in lst_1:\n",
    "    if i%2==1:#it will append odd number in string 3\n",
    "        lst_3.append(i)\n",
    "for j in lst_2:#it will append even number in tsring 3\n",
    "    if j%2==0:\n",
    "        lst_3.append(j)\n",
    "print(lst_3)\n"
   ]
  },
  {
   "cell_type": "code",
   "execution_count": null,
   "id": "0bac5c91",
   "metadata": {},
   "outputs": [],
   "source": [
    "#Task 6\n",
    "def exponent(base, expo):\n",
    "    return pow(base,expo)#t will return power of base and exponent\n",
    "base=int(input(\"Enter the base :\"))\n",
    "expo=int(input(\"Enter the Expoenet :\"))\n",
    "exponent(base,expo)\n"
   ]
  },
  {
   "cell_type": "code",
   "execution_count": null,
   "id": "4b8821ce",
   "metadata": {},
   "outputs": [],
   "source": [
    "#Task 7\n",
    "def calculator(num1,num2):    \n",
    "    return (num1+num2,num1-num2)#it will return sum and subtrction in one line\n",
    "num1=int(input(\"Enter Number 1 :\"))\n",
    "num2=int(input(\"Enter Number 2 :\"))\n",
    "print(\"Sum and Subtraction of two numbers are :\",end=\" \")\n",
    "calculator(num1,num2) \n"
   ]
  },
  {
   "cell_type": "code",
   "execution_count": null,
   "id": "95a1bfdc",
   "metadata": {},
   "outputs": [],
   "source": [
    "#Task 8\n",
    "str1=input(\"Enter string 1 :\")\n",
    "str2=input(\"Enter string 2 :\")\n",
    "str3=\"\"\n",
    "middle_str=len(s1)//2#i use two slaces because the anwser was in float\n",
    "str3=str1[:middle_str]+str2+str1[middle_str:]#throught slicing from mid \n",
    "print(str3) \n"
   ]
  },
  {
   "cell_type": "code",
   "execution_count": null,
   "id": "71378d6c",
   "metadata": {},
   "outputs": [],
   "source": [
    "#Task 9\n",
    "def outer_function(a,b):\n",
    "    def inner_function():#inner fun\n",
    "        return a+b\n",
    "    Sum= inner_function()#outer fun\n",
    "    return Sum+5# add 5 \n",
    "a=int(input(\"Enter Number 1 :\"))\n",
    "b=int(input(\"Enter Number 2 :\"))\n",
    "outer_function(a,b)\n"
   ]
  },
  {
   "cell_type": "code",
   "execution_count": null,
   "id": "9a308a1c",
   "metadata": {},
   "outputs": [],
   "source": [
    "#Task 10\n",
    "def show_employee(name,salary):\n",
    "    print(\"The Employee name is :\",name)\n",
    "    if salary==\"\":#it will assign value to salary if value is null\n",
    "        salary=9000\n",
    "        print(\"Salary of Employee is: \",salary)\n",
    "    else:\n",
    "        print(\"The Employee Salary is :\",salary)\n",
    "name=input(\"Enter Employee name :\")\n",
    "salary=input(\"Enter Salary of Employee :\")\n",
    "show_employee(name,salary)"
   ]
  },
  {
   "cell_type": "code",
   "execution_count": null,
   "id": "a8b1d7f7",
   "metadata": {},
   "outputs": [],
   "source": []
  }
 ],
 "metadata": {
  "kernelspec": {
   "display_name": "Python 3 (ipykernel)",
   "language": "python",
   "name": "python3"
  },
  "language_info": {
   "codemirror_mode": {
    "name": "ipython",
    "version": 3
   },
   "file_extension": ".py",
   "mimetype": "text/x-python",
   "name": "python",
   "nbconvert_exporter": "python",
   "pygments_lexer": "ipython3",
   "version": "3.11.4"
  }
 },
 "nbformat": 4,
 "nbformat_minor": 5
}

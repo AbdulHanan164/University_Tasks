{
 "cells": [
  {
   "cell_type": "code",
   "execution_count": 1,
   "id": "6b240e06",
   "metadata": {},
   "outputs": [
    {
     "name": "stdout",
     "output_type": "stream",
     "text": [
      "Enter a string: Abdul\n",
      "Frequency of word count: 1\n",
      "Top 10 words:\n",
      "Abdul\n"
     ]
    }
   ],
   "source": [
    "class TextAnalyzer:\n",
    "    def __init__(self, file_path):\n",
    "        self.path = file_path\n",
    "        self.dictionary = {}\n",
    "        self.file = open(self.path, \"w\")\n",
    "        self.string = str(input(\"Enter a string: \"))\n",
    "        self.file.write(self.string)\n",
    "        self.file = open(self.path, \"r\")\n",
    "        self.content = self.file.read()\n",
    "        self.words = self.content.split()\n",
    "    def count_words(self):\n",
    "        self.count = len(self.words)\n",
    "        print(\"Frequency of word count:\", self.count)\n",
    "\n",
    "    def get_top_words(self, n):\n",
    "        top_words = []\n",
    "        for word in self.words:\n",
    "            if word not in self.dictionary:\n",
    "                self.dictionary[word] = 0\n",
    "            self.dictionary[word] += 1\n",
    "        sorted_words = sorted(self.dictionary.items(), key=lambda item: item[1], reverse=True)\n",
    "        top_words = [word for word, count in sorted_words[:n]]\n",
    "        return top_words\n",
    "    def display_top_words(self, n):\n",
    "        top_words = self.get_top_words(n)\n",
    "        print(\"Top {} words:\".format(n))\n",
    "        for word in top_words:\n",
    "            print(word)\n",
    "\n",
    "f = TextAnalyzer(\"22F-3104.txt\")\n",
    "f.count_words()\n",
    "f.display_top_words(10)\n"
   ]
  },
  {
   "cell_type": "code",
   "execution_count": 2,
   "id": "b590a0dd",
   "metadata": {},
   "outputs": [
    {
     "name": "stdout",
     "output_type": "stream",
     "text": [
      "_____\n",
      "Enter a guess: Hanan\n",
      "Incorrect. You have 5 attempts left.\n",
      "_____\n",
      "Enter a guess: 2\n",
      "Incorrect. You have 4 attempts left.\n",
      "_____\n",
      "Enter a guess: 5\n",
      "Incorrect. You have 3 attempts left.\n",
      "_____\n",
      "Enter a guess: 3\n",
      "Incorrect. You have 2 attempts left.\n",
      "_____\n",
      "Enter a guess: 1\n",
      "Incorrect. You have 1 attempts left.\n",
      "_____\n",
      "Enter a guess: 5\n",
      "You already guessed that letter!\n",
      "_____\n",
      "Enter a guess: 7\n",
      "Incorrect. You have 0 attempts left.\n",
      "You lose! The word was Hamza.\n"
     ]
    }
   ],
   "source": [
    "import random\n",
    "\n",
    "class HangmanGame:\n",
    "    def __init__(self, word_list, max_attempts=6):\n",
    "        self.word_to_guess = random.choice(word_list)\n",
    "        self.guessed_letters = set()\n",
    "        self.attempts_left = max_attempts\n",
    "        self.is_won = False\n",
    "        self.is_lost = False\n",
    "        \n",
    "    def display_word(self):\n",
    "        word_to_display = \"\"\n",
    "        for letter in self.word_to_guess:\n",
    "            if letter in self.guessed_letters:\n",
    "                word_to_display += letter\n",
    "            else:\n",
    "                word_to_display += \"_\"\n",
    "        print(word_to_display)\n",
    "        \n",
    "    def make_guess(self):\n",
    "        guess_letter = input(\"Enter a guess: \")\n",
    "        if guess_letter in self.guessed_letters:\n",
    "            print(\"You already guessed that letter!\")\n",
    "        else:\n",
    "            self.guessed_letters.add(guess_letter)\n",
    "            if guess_letter in self.word_to_guess:\n",
    "                print(\"Correct!\")\n",
    "            else:\n",
    "                self.attempts_left -= 1\n",
    "                print(\"Incorrect. You have {} attempts left.\".format(self.attempts_left))\n",
    "                \n",
    "    def is_game_over(self):\n",
    "        return self.attempts_left == 0 or self.is_won\n",
    "    \n",
    "    def play(self):\n",
    "        while not self.is_game_over():\n",
    "            self.display_word()\n",
    "            self.make_guess()\n",
    "            if set(self.word_to_guess) <= self.guessed_letters:\n",
    "                self.is_won = True\n",
    "                print(\"You win! The word was {}.\".format(self.word_to_guess))\n",
    "                break\n",
    "        if not self.is_won:\n",
    "            print(\"You lose! The word was {}.\".format(self.word_to_guess))\n",
    "word_list = [\"Hanan\", \"Manan\", \"Hamza\"]\n",
    "game = HangmanGame(word_list)\n",
    "game.play()\n"
   ]
  },
  {
   "cell_type": "code",
   "execution_count": 3,
   "id": "fc93db94",
   "metadata": {},
   "outputs": [
    {
     "name": "stdout",
     "output_type": "stream",
     "text": [
      "List after Adding : [1, 2, 3, 4, 5, 6]\n",
      "List after removing : [1, 2, 4, 5, 6]\n",
      "Maximum number is: 6\n",
      "minimum number is : 1\n"
     ]
    }
   ],
   "source": [
    "class ListOperations:\n",
    "    def __init__(self,initial_list):\n",
    "        self.my_list=initial_list\n",
    "    def add_element(self,element):\n",
    "        self.my_list.append(element)\n",
    "        print('List after Adding :',self.my_list)\n",
    "    def remove_element(self,element):\n",
    "        if element in self.my_list:\n",
    "             self.my_list.remove(element)\n",
    "        print('List after removing :',self.my_list)\n",
    "    def find_maximum(self):\n",
    "        return max(self.my_list)\n",
    "    def find_minimum(self):\n",
    "        return min(self.my_list)\n",
    "mylist=[1,2,3,4,5]\n",
    "t=ListOperations(mylist)\n",
    "t.add_element(6)\n",
    "t.remove_element(3)\n",
    "print(\"Maximum number is:\",t.find_maximum())\n",
    "print(\"minimum number is :\",t.find_minimum())\n"
   ]
  },
  {
   "cell_type": "code",
   "execution_count": 4,
   "id": "0cdbc84c",
   "metadata": {},
   "outputs": [
    {
     "name": "stdout",
     "output_type": "stream",
     "text": [
      "Enter the lenght of the password8\n"
     ]
    },
    {
     "data": {
      "text/plain": [
       "' 0]A]&[&9'"
      ]
     },
     "execution_count": 4,
     "metadata": {},
     "output_type": "execute_result"
    }
   ],
   "source": [
    "class passwordGenerator:\n",
    "    def __init__(self,lenght):\n",
    "        self.lenght=lenght\n",
    "        self.charaters=[\"upper\",\"lower\",\"digits\",\"special\"]\n",
    "    def set_lenght(self,lenght):\n",
    "        self.lenght=lenght\n",
    "    def set_charaters(self,charaters):\n",
    "        self.charaters=charaters\n",
    "    def generate_pass(self):\n",
    "        password=\" \"\n",
    "        large=\"[A-Z]\"\n",
    "        small=\"[a-z]\"\n",
    "        digit=\"[0-9]\"\n",
    "        for i in range(self.lenght):\n",
    "            charater=random.choice(self.charaters)\n",
    "            if charater==\"upper\":\n",
    "                password+=random.choice(large)\n",
    "            elif charater==\"lower\":\n",
    "                password+=random.choice(small)\n",
    "            elif charater==\"digits\":\n",
    "                password+=random.choice(digit)\n",
    "            elif charater==\"special\":\n",
    "                password+=random.choice(\"&$*&^\")\n",
    "        return password\n",
    "lenght=int(input('Enter the lenght of the password'))\n",
    "password=passwordGenerator(lenght)\n",
    "password.generate_pass()\n"
   ]
  }
 ],
 "metadata": {
  "kernelspec": {
   "display_name": "Python 3 (ipykernel)",
   "language": "python",
   "name": "python3"
  },
  "language_info": {
   "codemirror_mode": {
    "name": "ipython",
    "version": 3
   },
   "file_extension": ".py",
   "mimetype": "text/x-python",
   "name": "python",
   "nbconvert_exporter": "python",
   "pygments_lexer": "ipython3",
   "version": "3.11.4"
  }
 },
 "nbformat": 4,
 "nbformat_minor": 5
}

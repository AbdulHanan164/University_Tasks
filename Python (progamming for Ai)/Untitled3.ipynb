{
 "cells": [
  {
   "cell_type": "code",
   "execution_count": 6,
   "id": "0e243a09",
   "metadata": {},
   "outputs": [
    {
     "name": "stdout",
     "output_type": "stream",
     "text": [
      "Enter length of Area :23\n",
      "Enter width of Area :14\n",
      "Area is : 322\n"
     ]
    }
   ],
   "source": [
    "length=int(input(\"Enter length of Area :\"))\n",
    "width=int(input(\"Enter width of Area :\"))\n",
    "area=width*length\n",
    "print(\"Area is :\",area)"
   ]
  },
  {
   "cell_type": "code",
   "execution_count": 14,
   "id": "56121199",
   "metadata": {},
   "outputs": [
    {
     "ename": "KeyboardInterrupt",
     "evalue": "Interrupted by user",
     "output_type": "error",
     "traceback": [
      "\u001b[1;31m---------------------------------------------------------------------------\u001b[0m",
      "\u001b[1;31mKeyboardInterrupt\u001b[0m                         Traceback (most recent call last)",
      "Cell \u001b[1;32mIn[14], line 2\u001b[0m\n\u001b[0;32m      1\u001b[0m Total\u001b[38;5;241m=\u001b[39m\u001b[38;5;241m400\u001b[39m\n\u001b[1;32m----> 2\u001b[0m Urdu\u001b[38;5;241m=\u001b[39m\u001b[38;5;28mint\u001b[39m(\u001b[38;5;28minput\u001b[39m(\u001b[38;5;124m\"\u001b[39m\u001b[38;5;124mEnter Marks of Urdu out of 100:\u001b[39m\u001b[38;5;124m\"\u001b[39m))\n\u001b[0;32m      3\u001b[0m English\u001b[38;5;241m=\u001b[39m\u001b[38;5;28mint\u001b[39m(\u001b[38;5;28minput\u001b[39m(\u001b[38;5;124m\"\u001b[39m\u001b[38;5;124mEnter Marks of English out of 100:\u001b[39m\u001b[38;5;124m\"\u001b[39m))\n\u001b[0;32m      4\u001b[0m Science\u001b[38;5;241m=\u001b[39m\u001b[38;5;28mint\u001b[39m(\u001b[38;5;28minput\u001b[39m(\u001b[38;5;124m\"\u001b[39m\u001b[38;5;124mEnter Marks of Science out of 100:\u001b[39m\u001b[38;5;124m\"\u001b[39m))\n",
      "File \u001b[1;32mC:\\New folder\\Lib\\site-packages\\ipykernel\\kernelbase.py:1175\u001b[0m, in \u001b[0;36mKernel.raw_input\u001b[1;34m(self, prompt)\u001b[0m\n\u001b[0;32m   1171\u001b[0m \u001b[38;5;28;01mif\u001b[39;00m \u001b[38;5;129;01mnot\u001b[39;00m \u001b[38;5;28mself\u001b[39m\u001b[38;5;241m.\u001b[39m_allow_stdin:\n\u001b[0;32m   1172\u001b[0m     \u001b[38;5;28;01mraise\u001b[39;00m StdinNotImplementedError(\n\u001b[0;32m   1173\u001b[0m         \u001b[38;5;124m\"\u001b[39m\u001b[38;5;124mraw_input was called, but this frontend does not support input requests.\u001b[39m\u001b[38;5;124m\"\u001b[39m\n\u001b[0;32m   1174\u001b[0m     )\n\u001b[1;32m-> 1175\u001b[0m \u001b[38;5;28;01mreturn\u001b[39;00m \u001b[38;5;28mself\u001b[39m\u001b[38;5;241m.\u001b[39m_input_request(\n\u001b[0;32m   1176\u001b[0m     \u001b[38;5;28mstr\u001b[39m(prompt),\n\u001b[0;32m   1177\u001b[0m     \u001b[38;5;28mself\u001b[39m\u001b[38;5;241m.\u001b[39m_parent_ident[\u001b[38;5;124m\"\u001b[39m\u001b[38;5;124mshell\u001b[39m\u001b[38;5;124m\"\u001b[39m],\n\u001b[0;32m   1178\u001b[0m     \u001b[38;5;28mself\u001b[39m\u001b[38;5;241m.\u001b[39mget_parent(\u001b[38;5;124m\"\u001b[39m\u001b[38;5;124mshell\u001b[39m\u001b[38;5;124m\"\u001b[39m),\n\u001b[0;32m   1179\u001b[0m     password\u001b[38;5;241m=\u001b[39m\u001b[38;5;28;01mFalse\u001b[39;00m,\n\u001b[0;32m   1180\u001b[0m )\n",
      "File \u001b[1;32mC:\\New folder\\Lib\\site-packages\\ipykernel\\kernelbase.py:1217\u001b[0m, in \u001b[0;36mKernel._input_request\u001b[1;34m(self, prompt, ident, parent, password)\u001b[0m\n\u001b[0;32m   1214\u001b[0m             \u001b[38;5;28;01mbreak\u001b[39;00m\n\u001b[0;32m   1215\u001b[0m \u001b[38;5;28;01mexcept\u001b[39;00m \u001b[38;5;167;01mKeyboardInterrupt\u001b[39;00m:\n\u001b[0;32m   1216\u001b[0m     \u001b[38;5;66;03m# re-raise KeyboardInterrupt, to truncate traceback\u001b[39;00m\n\u001b[1;32m-> 1217\u001b[0m     \u001b[38;5;28;01mraise\u001b[39;00m \u001b[38;5;167;01mKeyboardInterrupt\u001b[39;00m(\u001b[38;5;124m\"\u001b[39m\u001b[38;5;124mInterrupted by user\u001b[39m\u001b[38;5;124m\"\u001b[39m) \u001b[38;5;28;01mfrom\u001b[39;00m \u001b[38;5;28;01mNone\u001b[39;00m\n\u001b[0;32m   1218\u001b[0m \u001b[38;5;28;01mexcept\u001b[39;00m \u001b[38;5;167;01mException\u001b[39;00m:\n\u001b[0;32m   1219\u001b[0m     \u001b[38;5;28mself\u001b[39m\u001b[38;5;241m.\u001b[39mlog\u001b[38;5;241m.\u001b[39mwarning(\u001b[38;5;124m\"\u001b[39m\u001b[38;5;124mInvalid Message:\u001b[39m\u001b[38;5;124m\"\u001b[39m, exc_info\u001b[38;5;241m=\u001b[39m\u001b[38;5;28;01mTrue\u001b[39;00m)\n",
      "\u001b[1;31mKeyboardInterrupt\u001b[0m: Interrupted by user"
     ]
    }
   ],
   "source": [
    "Total=400\n",
    "Urdu=int(input(\"Enter Marks of Urdu out of 100:\"))\n",
    "English=int(input(\"Enter Marks of English out of 100:\"))\n",
    "Science=int(input(\"Enter Marks of Science out of 100:\"))\n",
    "Math=int(input(\"Enter Marks of Math out of 100:\"))\n",
    "Obtained=Urdu+English+Science+Math\n",
    "print(\"Obtained Marks are: \",Obtained)\n",
    "Percentage=(Obtained/Total)*100\n",
    "print(\"Percentage is :\",Percentage)"
   ]
  },
  {
   "cell_type": "code",
   "execution_count": 16,
   "id": "9539d2cb",
   "metadata": {},
   "outputs": [
    {
     "name": "stdout",
     "output_type": "stream",
     "text": [
      "Enter your bank amount :186000\n",
      "Enter Numbers of years:5\n",
      "Enter Rate :17\n",
      "Interest of Bank is : 158100.0\n"
     ]
    }
   ],
   "source": [
    "Amount=int(input(\"Enter your bank amount :\"))\n",
    "Year=int(input(\"Enter Numbers of years:\"))\n",
    "Rate=int(input(\"Enter Rate :\"))\n",
    "Interest=((Amount*Year*Rate)/100)\n",
    "print(\"Interest of Bank is :\",Interest)"
   ]
  },
  {
   "cell_type": "code",
   "execution_count": 17,
   "id": "f277c5eb",
   "metadata": {},
   "outputs": [
    {
     "name": "stdout",
     "output_type": "stream",
     "text": [
      "Enter your Fahrenheit :92\n",
      "Fahrenheit into Celsius is : 33.333333333333336\n"
     ]
    }
   ],
   "source": [
    "Fahrenheit=int(input(\"Enter your Fahrenheit :\"))\n",
    "Celsius=(5/9*(Fahrenheit-32))\n",
    "print(\"Fahrenheit into Celsius is :\",Celsius)"
   ]
  },
  {
   "cell_type": "code",
   "execution_count": 19,
   "id": "777dc41f",
   "metadata": {},
   "outputs": [
    {
     "name": "stdout",
     "output_type": "stream",
     "text": [
      "Enter length of Rectangle Area :14\n",
      "Enter width of Rectangle Area :15\n",
      "Perimeter of Rectangle is : 420\n"
     ]
    }
   ],
   "source": [
    "length=int(input(\"Enter length of Rectangle Area :\"))\n",
    "width=int(input(\"Enter width of Rectangle Area :\"))\n",
    "Perimeter=(2*(length*width))\n",
    "print(\"Perimeter of Rectangle is :\",Perimeter)"
   ]
  },
  {
   "cell_type": "code",
   "execution_count": 21,
   "id": "5b0c32fc",
   "metadata": {},
   "outputs": [
    {
     "name": "stdout",
     "output_type": "stream",
     "text": [
      "Enter your Retail Sale amount :550\n",
      "Enter the Sales Tax:17\n",
      "Sales Tax rate is:  93.5\n",
      "Total Sales is;  643.5\n"
     ]
    }
   ],
   "source": [
    "Retail_Price=int(input(\"Enter your Retail Sale amount :\"))\n",
    "Sales_Tax_Rate=int(input(\"Enter the Sales Tax:\"))\n",
    "Sales_tax=Retail_Price*(Sales_Tax_Rate/100)\n",
    "Total_Sales=Retail_Price+Sales_tax\n",
    "print(\"Sales Tax rate is: \",Sales_tax)\n",
    "print(\"Total Sales is; \",Total_Sales)"
   ]
  },
  {
   "cell_type": "code",
   "execution_count": 24,
   "id": "9e00ef94",
   "metadata": {},
   "outputs": [
    {
     "name": "stdout",
     "output_type": "stream",
     "text": [
      "Total Bill from Dollar $ to PKR 106050\n"
     ]
    }
   ],
   "source": [
    "Keyboard_Price=200\n",
    "Mouse=150\n",
    "Total_Bill=(Keyboard_Price+Mouse)*303\n",
    "print(\"Total Bill from Dollar $ to PKR\", Total_Bill)"
   ]
  },
  {
   "cell_type": "code",
   "execution_count": 25,
   "id": "9229a327",
   "metadata": {},
   "outputs": [
    {
     "name": "stdout",
     "output_type": "stream",
     "text": [
      "Enter your Starting Balance :12000\n",
      "Enter the Total Amount of Deposit made:2000\n",
      "Enter the Total Numbers of  withdrawals made: 7000\n",
      "Your Current Balance is : 7000\n"
     ]
    }
   ],
   "source": [
    "Starting_Balance=int(input(\"Enter your Starting Balance :\"))\n",
    "Deposit_Made=int(input(\"Enter the Total Amount of Deposit made:\"))\n",
    "Total_withDrawals=int(input(\"Enter the Total Numbers of  withdrawals made: \"))\n",
    "Current_Balance=(Starting_Balance+Deposit_Made)-Total_withDrawals\n",
    "print(\"Your Current Balance is :\",Current_Balance)"
   ]
  },
  {
   "cell_type": "code",
   "execution_count": 30,
   "id": "54a36fb9",
   "metadata": {},
   "outputs": [
    {
     "name": "stdout",
     "output_type": "stream",
     "text": [
      "Enter Electricity unit :144\n",
      "Your Electricity Bill is : 172.79999999999998\n"
     ]
    }
   ],
   "source": [
    "Electricity_unit=int(input(\"Enter Electricity unit :\"))\n",
    "if Electricity_unit<=50:\n",
    "    print(\"Your Electricity Bill is :\",Electricity_unit*0.50)\n",
    "elif Electricity_unit<=100 and Electricity_unit>50:\n",
    "        print(\"Your Electricity Bill is :\",Electricity_unit*0.75)\n",
    "elif Electricity_unit<=200 and Electricity_unit>100:                                                                                                                                                                     \n",
    "        print(\"Your Electricity Bill is :\",Electricity_unit*1.20)\n",
    "elif Electricity_unit>250 :                                                                                                                                                                    \n",
    "        print(\"Your Electricity Bill is :\",Electricity_unit*1.50)"
   ]
  },
  {
   "cell_type": "code",
   "execution_count": 68,
   "id": "e8dd38d2",
   "metadata": {},
   "outputs": [
    {
     "name": "stdout",
     "output_type": "stream",
     "text": [
      "Enter a number to check if it's a perfect number or not: 6\n",
      "Perfect number is: 6\n"
     ]
    }
   ],
   "source": [
    "number = int(input(\"Enter a number to check if it's a perfect number or not: \"))\n",
    "\n",
    "Perfect_Num = 0\n",
    "for i in range(1, number):\n",
    "    if number % i == 0:\n",
    "        Perfect_Num += i\n",
    "\n",
    "if Perfect_Num == number:\n",
    "    print(\"Perfect number is:\", Perfect_Num)\n",
    "else:\n",
    "    print(\"Not a perfect number.\")\n",
    "\n"
   ]
  },
  {
   "cell_type": "code",
   "execution_count": 67,
   "id": "79149e66",
   "metadata": {},
   "outputs": [
    {
     "name": "stdout",
     "output_type": "stream",
     "text": [
      "Enter age of the candidate ?6\n",
      "You are no Eiligble for vote casting :\n"
     ]
    }
   ],
   "source": [
    "Age=int(input(\"Enter age of the candidate ?\"))\n",
    "if Age>=18:\n",
    "    print(\"You are Eiligble for vote casting :\")\n",
    "else:\n",
    "    print(\"You are no Eiligble for vote casting :\")"
   ]
  },
  {
   "cell_type": "code",
   "execution_count": 65,
   "id": "1f02a5d3",
   "metadata": {},
   "outputs": [
    {
     "name": "stdout",
     "output_type": "stream",
     "text": [
      "Total price of shirt after discount is : 495.0\n"
     ]
    }
   ],
   "source": [
    "Shirt_Price=550\n",
    "Discount_Price=(550*10)/100\n",
    "Total_Price=Shirt_Price-Discount_Price\n",
    "print(\"Total price of shirt after discount is :\",Total_Price)"
   ]
  },
  {
   "cell_type": "code",
   "execution_count": null,
   "id": "f4ad77e6",
   "metadata": {},
   "outputs": [],
   "source": [
    "number = int(input(\"Enter a number to check if it's a perfect number or not: \"))\n",
    "Ending_number = int(input(\"Enter a Ending number to check if it's a perfect number or not: \"))\n",
    "\n",
    "for i in range(number, Ending_number):\n",
    "    Perfect_Num = 0\n",
    "    if number % i == 0:\n",
    "        Perfect_Num += i\n",
    "if Perfect_Num == number:\n",
    "    print(\"Perfect number is:\", Perfect_Num)\n",
    "else:\n",
    "    print(\"Not a perfect number.\")"
   ]
  },
  {
   "cell_type": "code",
   "execution_count": 74,
   "id": "e1a7d16f",
   "metadata": {},
   "outputs": [
    {
     "name": "stdout",
     "output_type": "stream",
     "text": [
      "Enter a number : 5\n",
      "Square of numbers are : 1\n",
      "Square of numbers are : 4\n",
      "Square of numbers are : 9\n",
      "Square of numbers are : 16\n",
      "Square of numbers are : 25\n",
      "Sum of Square of numbers are : 55\n"
     ]
    }
   ],
   "source": [
    "number = int(input(\"Enter a number : \"))         \n",
    "sqr=0\n",
    "Sqr_sum=0\n",
    "for i in range(1,number+1):\n",
    "    sqr=i*i\n",
    "    Sqr_sum+=sqr\n",
    "    print(\"Square of numbers are :\",sqr)\n",
    "print(\"Sum of Square of numbers are :\",Sqr_sum)\n"
   ]
  },
  {
   "cell_type": "code",
   "execution_count": null,
   "id": "a667673b",
   "metadata": {},
   "outputs": [],
   "source": [
    "741                                                                                                                                                                                                                                                                                                                                                                                                                                                                                                                                                                                                                                                                                                                                                                                                                                                                                                                                                                                                                                  "
   ]
  },
  {
   "cell_type": "code",
   "execution_count": 1,
   "id": "0c8127eb",
   "metadata": {},
   "outputs": [
    {
     "ename": "SyntaxError",
     "evalue": "invalid syntax. Perhaps you forgot a comma? (3393768559.py, line 3)",
     "output_type": "error",
     "traceback": [
      "\u001b[1;36m  Cell \u001b[1;32mIn[1], line 3\u001b[1;36m\u001b[0m\n\u001b[1;33m    Radius = float(input(\"Enter a  Radius\")\u001b[0m\n\u001b[1;37m                   ^\u001b[0m\n\u001b[1;31mSyntaxError\u001b[0m\u001b[1;31m:\u001b[0m invalid syntax. Perhaps you forgot a comma?\n"
     ]
    }
   ],
   "source": []
  },
  {
   "cell_type": "code",
   "execution_count": 3,
   "id": "11403312",
   "metadata": {},
   "outputs": [
    {
     "ename": "SyntaxError",
     "evalue": "invalid syntax. Perhaps you forgot a comma? (3459114923.py, line 3)",
     "output_type": "error",
     "traceback": [
      "\u001b[1;36m  Cell \u001b[1;32mIn[3], line 3\u001b[1;36m\u001b[0m\n\u001b[1;33m    Radius = float(input(\"Enter a  Radius\")\u001b[0m\n\u001b[1;37m                   ^\u001b[0m\n\u001b[1;31mSyntaxError\u001b[0m\u001b[1;31m:\u001b[0m invalid syntax. Perhaps you forgot a comma?\n"
     ]
    }
   ],
   "source": [
    "number_Of_Sides = int(input(\"Enter a number of Sides: \"))         \n",
    "if number_Of_Sides==0:\n",
    "    Radius = float(input(\"Enter a  Radius\")\n",
    "    circle=3.14*(Radius*Radius)\n",
    "    print(\"Area of the circle is :\",circle)\n",
    "elif number_Of_Sides==3:\n",
    "    Base = float(input(\"Enter Base of Triangle \")\n",
    "    Height = float(input(\"Enter Height of Triangle \")\n",
    "    Triangle=0.5*(Base*Height)\n",
    "    print(\"Area of the Triangle is :\",Triangle)       "
   ]
  },
  {
   "cell_type": "code",
   "execution_count": null,
   "id": "22e70523",
   "metadata": {},
   "outputs": [],
   "source": []
  }
 ],
 "metadata": {
  "kernelspec": {
   "display_name": "Python 3 (ipykernel)",
   "language": "python",
   "name": "python3"
  },
  "language_info": {
   "codemirror_mode": {
    "name": "ipython",
    "version": 3
   },
   "file_extension": ".py",
   "mimetype": "text/x-python",
   "name": "python",
   "nbconvert_exporter": "python",
   "pygments_lexer": "ipython3",
   "version": "3.11.4"
  }
 },
 "nbformat": 4,
 "nbformat_minor": 5
}

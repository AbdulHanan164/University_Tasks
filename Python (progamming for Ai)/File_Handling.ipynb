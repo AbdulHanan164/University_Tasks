{
 "cells": [
  {
   "cell_type": "code",
   "execution_count": 1,
   "id": "ca662418",
   "metadata": {},
   "outputs": [
    {
     "ename": "KeyboardInterrupt",
     "evalue": "Interrupted by user",
     "output_type": "error",
     "traceback": [
      "\u001b[1;31m---------------------------------------------------------------------------\u001b[0m",
      "\u001b[1;31mKeyboardInterrupt\u001b[0m                         Traceback (most recent call last)",
      "Cell \u001b[1;32mIn[1], line 1\u001b[0m\n\u001b[1;32m----> 1\u001b[0m Available_Products\u001b[38;5;241m=\u001b[39m\u001b[38;5;28mint\u001b[39m(\u001b[38;5;28minput\u001b[39m(\u001b[38;5;124m\"\u001b[39m\u001b[38;5;124mEnter no of products available :\u001b[39m\u001b[38;5;124m\"\u001b[39m))\n\u001b[0;32m      2\u001b[0m no_of_Products\u001b[38;5;241m=\u001b[39m\u001b[38;5;28mint\u001b[39m(\u001b[38;5;28minput\u001b[39m(\u001b[38;5;124m\"\u001b[39m\u001b[38;5;124mEnter the number of products you want to buy :\u001b[39m\u001b[38;5;124m\"\u001b[39m))\n\u001b[0;32m      3\u001b[0m Remaining_Products\u001b[38;5;241m=\u001b[39m\u001b[38;5;28mint\u001b[39m(Available_Products\u001b[38;5;241m-\u001b[39mno_of_Products)\n",
      "File \u001b[1;32mE:\\Anaconda\\Lib\\site-packages\\ipykernel\\kernelbase.py:1175\u001b[0m, in \u001b[0;36mKernel.raw_input\u001b[1;34m(self, prompt)\u001b[0m\n\u001b[0;32m   1171\u001b[0m \u001b[38;5;28;01mif\u001b[39;00m \u001b[38;5;129;01mnot\u001b[39;00m \u001b[38;5;28mself\u001b[39m\u001b[38;5;241m.\u001b[39m_allow_stdin:\n\u001b[0;32m   1172\u001b[0m     \u001b[38;5;28;01mraise\u001b[39;00m StdinNotImplementedError(\n\u001b[0;32m   1173\u001b[0m         \u001b[38;5;124m\"\u001b[39m\u001b[38;5;124mraw_input was called, but this frontend does not support input requests.\u001b[39m\u001b[38;5;124m\"\u001b[39m\n\u001b[0;32m   1174\u001b[0m     )\n\u001b[1;32m-> 1175\u001b[0m \u001b[38;5;28;01mreturn\u001b[39;00m \u001b[38;5;28mself\u001b[39m\u001b[38;5;241m.\u001b[39m_input_request(\n\u001b[0;32m   1176\u001b[0m     \u001b[38;5;28mstr\u001b[39m(prompt),\n\u001b[0;32m   1177\u001b[0m     \u001b[38;5;28mself\u001b[39m\u001b[38;5;241m.\u001b[39m_parent_ident[\u001b[38;5;124m\"\u001b[39m\u001b[38;5;124mshell\u001b[39m\u001b[38;5;124m\"\u001b[39m],\n\u001b[0;32m   1178\u001b[0m     \u001b[38;5;28mself\u001b[39m\u001b[38;5;241m.\u001b[39mget_parent(\u001b[38;5;124m\"\u001b[39m\u001b[38;5;124mshell\u001b[39m\u001b[38;5;124m\"\u001b[39m),\n\u001b[0;32m   1179\u001b[0m     password\u001b[38;5;241m=\u001b[39m\u001b[38;5;28;01mFalse\u001b[39;00m,\n\u001b[0;32m   1180\u001b[0m )\n",
      "File \u001b[1;32mE:\\Anaconda\\Lib\\site-packages\\ipykernel\\kernelbase.py:1217\u001b[0m, in \u001b[0;36mKernel._input_request\u001b[1;34m(self, prompt, ident, parent, password)\u001b[0m\n\u001b[0;32m   1214\u001b[0m             \u001b[38;5;28;01mbreak\u001b[39;00m\n\u001b[0;32m   1215\u001b[0m \u001b[38;5;28;01mexcept\u001b[39;00m \u001b[38;5;167;01mKeyboardInterrupt\u001b[39;00m:\n\u001b[0;32m   1216\u001b[0m     \u001b[38;5;66;03m# re-raise KeyboardInterrupt, to truncate traceback\u001b[39;00m\n\u001b[1;32m-> 1217\u001b[0m     \u001b[38;5;28;01mraise\u001b[39;00m \u001b[38;5;167;01mKeyboardInterrupt\u001b[39;00m(\u001b[38;5;124m\"\u001b[39m\u001b[38;5;124mInterrupted by user\u001b[39m\u001b[38;5;124m\"\u001b[39m) \u001b[38;5;28;01mfrom\u001b[39;00m \u001b[38;5;28;01mNone\u001b[39;00m\n\u001b[0;32m   1218\u001b[0m \u001b[38;5;28;01mexcept\u001b[39;00m \u001b[38;5;167;01mException\u001b[39;00m:\n\u001b[0;32m   1219\u001b[0m     \u001b[38;5;28mself\u001b[39m\u001b[38;5;241m.\u001b[39mlog\u001b[38;5;241m.\u001b[39mwarning(\u001b[38;5;124m\"\u001b[39m\u001b[38;5;124mInvalid Message:\u001b[39m\u001b[38;5;124m\"\u001b[39m, exc_info\u001b[38;5;241m=\u001b[39m\u001b[38;5;28;01mTrue\u001b[39;00m)\n",
      "\u001b[1;31mKeyboardInterrupt\u001b[0m: Interrupted by user"
     ]
    }
   ],
   "source": [
    "Available_Products=int(input(\"Enter no of products available :\"))\n",
    "no_of_Products=int(input(\"Enter the number of products you want to buy :\"))\n",
    "Remaining_Products=int(Available_Products-no_of_Products)\n",
    "myFile=open(\"Product.txt\",\"w\")\n",
    "dictionary={}\n",
    "for i in range (0,no_of_Products):\n",
    "    product_id=int(input(\"Enter Product id :\"))\n",
    "    product_name=str(input(\"Enter product name :\"))\n",
    "    product_price=int(input(\"Enter product price :\"))\n",
    "    product_quantity=int(input(\"Enter product quantity :\"))\n",
    "    product_availbility=bool(input(\"If product is availble then 1 otherwise -1 :\"))\n",
    "    if product_availbility==1:\n",
    "        myFile.write(\"Number of products are :\")\n",
    "        myFile.write(str(no_of_Products))\n",
    "        myFile.write(\"\\n\")\n",
    "        myFile.write(\"ID of the products is :\")\n",
    "        myFile.write(str(product_id))\n",
    "        myFile.write(\"\\n\")\n",
    "        myFile.write(\"Name of the products is :\")\n",
    "        myFile.write(str(product_name))\n",
    "        myFile.write(\"\\n\")\n",
    "        myFile.write(\"Price of the products are :\")\n",
    "        myFile.write(str(product_price))\n",
    "        myFile.write(\"\\n\")\n",
    "        myFile.write(\"Quantity of the products is :\")\n",
    "        myFile.write(str(product_quantity))\n",
    "        myFile.write(\"\\n\")\n",
    "        dictionary[i+1]={\"product_id:\":product_id,\"product_price\":product_price,\"product_quantity:\":product_quantity,\"product_availbility :\":product_availbility}\n",
    "    elif product_availbility==-1:\n",
    "        myFile.write(\"Number of products are :\")\n",
    "        myFile.write(str(no_of_Products))\n",
    "        myFile.write(\"\\n\")\n",
    "        myFile.write(\"ID of the products is :\")\n",
    "        myFile.write(str(product_id))\n",
    "        myFile.write(\"\\n\")\n",
    "        myFile.write(\"Name of the products is :\")\n",
    "        myFile.write(str(product_name))\n",
    "        myFile.write(\"\\n\")\n",
    "        myFile.write(\"Price of the products are :\")\n",
    "        myFile.write(str(product_price))\n",
    "        myFile.write(\"\\n\")\n",
    "        myFile.write(\"Quantity of the products is :\")\n",
    "        myFile.write(str(product_quantity))\n",
    "        myFile.write(\"\\n\")\n",
    "        dictionary[i+1]={\"product_id:\":product_id,\"product_price\":product_price,\"product_quantity:\":product_quantity,\"product_availbility :\":product_availbility}\n",
    "myFile.write(\"Remaining Products are :\")\n",
    "myFile.write(str(Remaining_Products))\n",
    "print(\"Remaining Products are\",Remaining_Products)\n",
    "print(dictionary)\n"
   ]
  },
  {
   "cell_type": "code",
   "execution_count": 4,
   "id": "716ee609",
   "metadata": {},
   "outputs": [
    {
     "name": "stdout",
     "output_type": "stream",
     "text": [
      "Student: Hanan\n",
      "Grades: [90, 85, 88]\n",
      "Average Grade: 87.66666666666667\n",
      "\n",
      "Student: Hamza\n",
      "Grades: [78, 92, 87]\n",
      "Average Grade: 85.66666666666667\n",
      "\n",
      "Student: Qasim\n",
      "Grades: [95, 89, 91]\n",
      "Average Grade: 91.66666666666667\n",
      "\n",
      "Student: Manan\n",
      "Grades: [80, 95, 88]\n",
      "Average Grade: 87.66666666666667\n",
      "\n",
      "Highest Average: Qasim -> 91.66666666666667\n",
      "Lowest Average: Hamza -> 85.66666666666667\n"
     ]
    },
    {
     "ename": "KeyboardInterrupt",
     "evalue": "Interrupted by user",
     "output_type": "error",
     "traceback": [
      "\u001b[1;31m---------------------------------------------------------------------------\u001b[0m",
      "\u001b[1;31mKeyboardInterrupt\u001b[0m                         Traceback (most recent call last)",
      "Cell \u001b[1;32mIn[4], line 23\u001b[0m\n\u001b[0;32m     21\u001b[0m \u001b[38;5;28mprint\u001b[39m(\u001b[38;5;124mf\u001b[39m\u001b[38;5;124m\"\u001b[39m\u001b[38;5;124mLowest Average: \u001b[39m\u001b[38;5;132;01m{\u001b[39;00mlowest_average\u001b[38;5;132;01m}\u001b[39;00m\u001b[38;5;124m -> \u001b[39m\u001b[38;5;132;01m{\u001b[39;00maverages[lowest_average]\u001b[38;5;132;01m}\u001b[39;00m\u001b[38;5;124m\"\u001b[39m)\n\u001b[0;32m     22\u001b[0m \u001b[38;5;66;03m# Search for a student by name and display their grade details\u001b[39;00m\n\u001b[1;32m---> 23\u001b[0m search_name \u001b[38;5;241m=\u001b[39m\u001b[38;5;28mstr\u001b[39m(\u001b[38;5;28minput\u001b[39m(\u001b[38;5;124m\"\u001b[39m\u001b[38;5;124mEnter Student name you want to serach :\u001b[39m\u001b[38;5;124m\"\u001b[39m))\n\u001b[0;32m     24\u001b[0m \u001b[38;5;28;01mif\u001b[39;00m search_name \u001b[38;5;129;01min\u001b[39;00m student_grades:\n\u001b[0;32m     25\u001b[0m     grades \u001b[38;5;241m=\u001b[39m student_grades[search_name]\n",
      "File \u001b[1;32mE:\\Anaconda\\Lib\\site-packages\\ipykernel\\kernelbase.py:1175\u001b[0m, in \u001b[0;36mKernel.raw_input\u001b[1;34m(self, prompt)\u001b[0m\n\u001b[0;32m   1171\u001b[0m \u001b[38;5;28;01mif\u001b[39;00m \u001b[38;5;129;01mnot\u001b[39;00m \u001b[38;5;28mself\u001b[39m\u001b[38;5;241m.\u001b[39m_allow_stdin:\n\u001b[0;32m   1172\u001b[0m     \u001b[38;5;28;01mraise\u001b[39;00m StdinNotImplementedError(\n\u001b[0;32m   1173\u001b[0m         \u001b[38;5;124m\"\u001b[39m\u001b[38;5;124mraw_input was called, but this frontend does not support input requests.\u001b[39m\u001b[38;5;124m\"\u001b[39m\n\u001b[0;32m   1174\u001b[0m     )\n\u001b[1;32m-> 1175\u001b[0m \u001b[38;5;28;01mreturn\u001b[39;00m \u001b[38;5;28mself\u001b[39m\u001b[38;5;241m.\u001b[39m_input_request(\n\u001b[0;32m   1176\u001b[0m     \u001b[38;5;28mstr\u001b[39m(prompt),\n\u001b[0;32m   1177\u001b[0m     \u001b[38;5;28mself\u001b[39m\u001b[38;5;241m.\u001b[39m_parent_ident[\u001b[38;5;124m\"\u001b[39m\u001b[38;5;124mshell\u001b[39m\u001b[38;5;124m\"\u001b[39m],\n\u001b[0;32m   1178\u001b[0m     \u001b[38;5;28mself\u001b[39m\u001b[38;5;241m.\u001b[39mget_parent(\u001b[38;5;124m\"\u001b[39m\u001b[38;5;124mshell\u001b[39m\u001b[38;5;124m\"\u001b[39m),\n\u001b[0;32m   1179\u001b[0m     password\u001b[38;5;241m=\u001b[39m\u001b[38;5;28;01mFalse\u001b[39;00m,\n\u001b[0;32m   1180\u001b[0m )\n",
      "File \u001b[1;32mE:\\Anaconda\\Lib\\site-packages\\ipykernel\\kernelbase.py:1217\u001b[0m, in \u001b[0;36mKernel._input_request\u001b[1;34m(self, prompt, ident, parent, password)\u001b[0m\n\u001b[0;32m   1214\u001b[0m             \u001b[38;5;28;01mbreak\u001b[39;00m\n\u001b[0;32m   1215\u001b[0m \u001b[38;5;28;01mexcept\u001b[39;00m \u001b[38;5;167;01mKeyboardInterrupt\u001b[39;00m:\n\u001b[0;32m   1216\u001b[0m     \u001b[38;5;66;03m# re-raise KeyboardInterrupt, to truncate traceback\u001b[39;00m\n\u001b[1;32m-> 1217\u001b[0m     \u001b[38;5;28;01mraise\u001b[39;00m \u001b[38;5;167;01mKeyboardInterrupt\u001b[39;00m(\u001b[38;5;124m\"\u001b[39m\u001b[38;5;124mInterrupted by user\u001b[39m\u001b[38;5;124m\"\u001b[39m) \u001b[38;5;28;01mfrom\u001b[39;00m \u001b[38;5;28;01mNone\u001b[39;00m\n\u001b[0;32m   1218\u001b[0m \u001b[38;5;28;01mexcept\u001b[39;00m \u001b[38;5;167;01mException\u001b[39;00m:\n\u001b[0;32m   1219\u001b[0m     \u001b[38;5;28mself\u001b[39m\u001b[38;5;241m.\u001b[39mlog\u001b[38;5;241m.\u001b[39mwarning(\u001b[38;5;124m\"\u001b[39m\u001b[38;5;124mInvalid Message:\u001b[39m\u001b[38;5;124m\"\u001b[39m, exc_info\u001b[38;5;241m=\u001b[39m\u001b[38;5;28;01mTrue\u001b[39;00m)\n",
      "\u001b[1;31mKeyboardInterrupt\u001b[0m: Interrupted by user"
     ]
    }
   ],
   "source": [
    "#Task 2\n",
    "student_grades = {}\n",
    "# Add new students and their grades\n",
    "student_grades[\"Hanan\"] = [90, 85, 88]\n",
    "student_grades[\"Hamza\"] = [78, 92, 87]\n",
    "student_grades[\"Qasim\"] = [95, 89, 91]\n",
    "# Update grades for a student\n",
    "student_grades[\"Manan\"] = [80, 95, 88]\n",
    "# Calculate and display the average grades for each student\n",
    "for student, grades in student_grades.items():\n",
    "    average = sum(grades) / len(grades)\n",
    "    print(f\"Student: {student}\")\n",
    "    print(f\"Grades: {grades}\")\n",
    "    print(f\"Average Grade: {average}\")\n",
    "    print()\n",
    "# Find and display students with the highest and lowest average grades\n",
    "averages = {student: sum(grades) / len(grades) for student, grades in student_grades.items()}\n",
    "highest_average = max(averages, key=averages.get)\n",
    "lowest_average = min(averages, key=averages.get)\n",
    "print(f\"Highest Average: {highest_average} -> {averages[highest_average]}\")\n",
    "print(f\"Lowest Average: {lowest_average} -> {averages[lowest_average]}\")\n",
    "# Search for a student by name and display their grade details\n",
    "search_name =str(input(\"Enter Student name you want to serach :\"))\n",
    "if search_name in student_grades:\n",
    "    grades = student_grades[search_name]\n",
    "    print(f\"Student: {search_name}\")\n",
    "    print(f\"Grades: {grades}\")\n",
    "    print(f\"Average Grade: {sum(grades) / len(grades)}\")\n",
    "else:\n",
    "    print(\"Student not found.\")\n"
   ]
  },
  {
   "cell_type": "code",
   "execution_count": null,
   "id": "8a0d8927",
   "metadata": {},
   "outputs": [],
   "source": [
    "#task no 4:\n",
    "no_of_Employee=int(input(\"Enter number of Employee\"))\n",
    "list_of_Employee=[]\n",
    "check_id=[]\n",
    "check_name=[]\n",
    "weekly_pay=0\n",
    "for i in range (0,no_of_Employee):\n",
    "    name=input(\"Enter Employee name :\")\n",
    "    check_name.append(name)\n",
    "    Employee_id=int(input(\"Enter Employee id :\"))\n",
    "    check_id.append(Employee_id)\n",
    "    hourly_work=int(input(\"Enter Employee hourly work :\"))\n",
    "    hours_worked=int(input(\"Enter number of hours worked :\"))\n",
    "    weekly_pay=hourly_work*hours_worked\n",
    "    tuple_Employee=({Employee_id},name,hourly_work,hours_worked)\n",
    "    list_of_Employee+=tuple_Employee\n",
    "print(list_of_Employee)\n",
    "Search_Employee=int(input(\"Enter Employee id to search :\"))\n",
    "\n",
    "if Search_Employee in check_id:\n",
    "    print(\"Yes\")\n"
   ]
  },
  {
   "cell_type": "code",
   "execution_count": null,
   "id": "4d64d05a",
   "metadata": {},
   "outputs": [],
   "source": []
  }
 ],
 "metadata": {
  "kernelspec": {
   "display_name": "Python 3 (ipykernel)",
   "language": "python",
   "name": "python3"
  },
  "language_info": {
   "codemirror_mode": {
    "name": "ipython",
    "version": 3
   },
   "file_extension": ".py",
   "mimetype": "text/x-python",
   "name": "python",
   "nbconvert_exporter": "python",
   "pygments_lexer": "ipython3",
   "version": "3.11.4"
  }
 },
 "nbformat": 4,
 "nbformat_minor": 5
}

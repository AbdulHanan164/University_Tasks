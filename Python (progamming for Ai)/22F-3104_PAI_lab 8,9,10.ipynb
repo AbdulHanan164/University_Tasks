{
 "cells": [
  {
   "cell_type": "code",
   "execution_count": 81,
   "id": "d16db675",
   "metadata": {},
   "outputs": [
    {
     "name": "stdout",
     "output_type": "stream",
     "text": [
      "multilpication Array :\n",
      " [[16 49 16 54]\n",
      " [ 9 27 30 35]\n",
      " [ 6 15  9 14]\n",
      " [63 16  5 12]]\n"
     ]
    }
   ],
   "source": [
    "from numpy import*\n",
    "from pandas import*\n",
    "array_1=random.randint(1,10,(4,4))\n",
    "array_2=random.randint(1,10,(4,4))\n",
    "array_3=(array_1*array_2)\n",
    "print(\"multilpication Array :\\n\",array_3)    "
   ]
  },
  {
   "cell_type": "code",
   "execution_count": 57,
   "id": "42174a20",
   "metadata": {},
   "outputs": [
    {
     "name": "stdout",
     "output_type": "stream",
     "text": [
      "        Product  Quantity  Price\n",
      "0   Head phones         2     75\n",
      "1      keyboard        20     71\n",
      "2         Mouse         3     33\n",
      "3         phone         4     24\n",
      "4  graphic card         5     32\n",
      "Total Sales         Product  Quantity  Price  Total Sales\n",
      "0   Head phones         2     75          150\n",
      "1      keyboard        20     71         1420\n",
      "2         Mouse         3     33           99\n",
      "3         phone         4     24           96\n",
      "4  graphic card         5     32          160\n",
      "sorted data is\n",
      " ['Price', 'Product', 'Quantity', 'Total Sales']\n"
     ]
    }
   ],
   "source": [
    "sales_data=DataFrame({'Product':['Head phones','keyboard','Mouse','phone','graphic card'],'Quantity':[2,20,3,4,5],'Price':[75,71,33,24,32]})\n",
    "print(sales_data)\n",
    "sales_data['Total Sales']=sales_data['Quantity']*sales_data['Price']\n",
    "print(\"Total Sales\",sales_data)\n",
    "print(\"sorted data is\\n\",sorted(sales_data))"
   ]
  },
  {
   "cell_type": "code",
   "execution_count": 62,
   "id": "c4f26e0b",
   "metadata": {},
   "outputs": [
    {
     "name": "stdout",
     "output_type": "stream",
     "text": [
      "     Name  Age  Salary\n",
      "0   hanan   21   75000\n",
      "1   hamza   20   71000\n",
      "2  nadeem   32   33000\n",
      "3  faisal   24   24000\n",
      "4   usama   25   32000\n",
      "After adding bonus :\n",
      "      Name  Age  Salary  Bonus\n",
      "0   hanan   21   75000   1153\n",
      "1   hamza   20   71000   1153\n",
      "2  nadeem   32   33000   1153\n",
      "3  faisal   24   24000   1153\n",
      "4   usama   25   32000   1153\n",
      "New Data Frame is:\n",
      "      Name  Age  Salary  Bonus  total Earning\n",
      "0   hanan   21   75000   1153          76153\n",
      "1   hamza   20   71000   1153          72153\n",
      "2  nadeem   32   33000   1153          34153\n",
      "3  faisal   24   24000   1153          25153\n",
      "4   usama   25   32000   1153          33153\n"
     ]
    }
   ],
   "source": [
    "df=DataFrame({'Name':['hanan','hamza','nadeem','faisal','usama'],'Age':[21,20,32,24,25],'Salary':[75000,71000,33000,24000,32000]})\n",
    "print(df)\n",
    "df[\"Bonus\"]=random.randint(1000,5000)\n",
    "print(\"After adding bonus :\\n\",df)\n",
    "df[\"total Earning\"]=df[\"Salary\"]+df[\"Bonus\"]\n",
    "print(\"New Data Frame is:\\n\",df)"
   ]
  },
  {
   "cell_type": "code",
   "execution_count": 77,
   "id": "eb4e5065",
   "metadata": {},
   "outputs": [
    {
     "ename": "TypeError",
     "evalue": "Cannot construct a dtype from an array",
     "output_type": "error",
     "traceback": [
      "\u001b[1;31m---------------------------------------------------------------------------\u001b[0m",
      "\u001b[1;31mTypeError\u001b[0m                                 Traceback (most recent call last)",
      "Cell \u001b[1;32mIn[77], line 12\u001b[0m\n\u001b[0;32m     10\u001b[0m arr2\u001b[38;5;241m=\u001b[39mrandom\u001b[38;5;241m.\u001b[39mrandint(\u001b[38;5;241m1\u001b[39m,\u001b[38;5;241m10\u001b[39m,(\u001b[38;5;241m2\u001b[39m,\u001b[38;5;241m2\u001b[39m))\n\u001b[0;32m     11\u001b[0m A\u001b[38;5;241m=\u001b[39mMatrix(arr1,arr2)\n\u001b[1;32m---> 12\u001b[0m B\u001b[38;5;241m=\u001b[39mmatrix(arr1,arr2)\n\u001b[0;32m     13\u001b[0m \u001b[38;5;28mprint\u001b[39m(A\u001b[38;5;241m+\u001b[39mB)\n\u001b[0;32m     14\u001b[0m C\u001b[38;5;241m.\u001b[39mdisplay()\n",
      "File \u001b[1;32mC:\\ProgramData\\anaconda3\\Lib\\site-packages\\numpy\\matrixlib\\defmatrix.py:134\u001b[0m, in \u001b[0;36mmatrix.__new__\u001b[1;34m(subtype, data, dtype, copy)\u001b[0m\n\u001b[0;32m    132\u001b[0m     intype \u001b[38;5;241m=\u001b[39m data\u001b[38;5;241m.\u001b[39mdtype\n\u001b[0;32m    133\u001b[0m \u001b[38;5;28;01melse\u001b[39;00m:\n\u001b[1;32m--> 134\u001b[0m     intype \u001b[38;5;241m=\u001b[39m N\u001b[38;5;241m.\u001b[39mdtype(dtype)\n\u001b[0;32m    135\u001b[0m new \u001b[38;5;241m=\u001b[39m data\u001b[38;5;241m.\u001b[39mview(subtype)\n\u001b[0;32m    136\u001b[0m \u001b[38;5;28;01mif\u001b[39;00m intype \u001b[38;5;241m!=\u001b[39m data\u001b[38;5;241m.\u001b[39mdtype:\n",
      "\u001b[1;31mTypeError\u001b[0m: Cannot construct a dtype from an array"
     ]
    }
   ],
   "source": [
    "class Matrix:\n",
    "    def __init__(self,arr1,arr2):\n",
    "        self.arr1=arr1\n",
    "        self.arr2=arr2\n",
    "    def __add__(self): \n",
    "        return self.arr1+self.arr2\n",
    "    def display(self):\n",
    "        print(\"sum of two matrixes are :\",self.arr3)\n",
    "arr1=random.randint(1,10,(2,2))\n",
    "arr2=random.randint(1,10,(2,2))\n",
    "A=Matrix(arr1,arr2)\n",
    "B=matrix(arr1,arr2)\n",
    "print(A+B)\n",
    "C.display()"
   ]
  }
 ],
 "metadata": {
  "kernelspec": {
   "display_name": "Python 3 (ipykernel)",
   "language": "python",
   "name": "python3"
  },
  "language_info": {
   "codemirror_mode": {
    "name": "ipython",
    "version": 3
   },
   "file_extension": ".py",
   "mimetype": "text/x-python",
   "name": "python",
   "nbconvert_exporter": "python",
   "pygments_lexer": "ipython3",
   "version": "3.11.4"
  }
 },
 "nbformat": 4,
 "nbformat_minor": 5
}

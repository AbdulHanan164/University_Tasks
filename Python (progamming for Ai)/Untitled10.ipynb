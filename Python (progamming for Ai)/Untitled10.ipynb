{
 "cells": [
  {
   "cell_type": "code",
   "execution_count": 35,
   "id": "7d469750",
   "metadata": {},
   "outputs": [
    {
     "name": "stdout",
     "output_type": "stream",
     "text": [
      "['0', '1', '2', '3', '11']\n"
     ]
    }
   ],
   "source": [
    "import re\n",
    "string=\"python in c++ 0 1 2 3 11\"\n",
    "result=re.findall('\\d+',string)\n",
    "print(result)"
   ]
  },
  {
   "cell_type": "code",
   "execution_count": 47,
   "id": "2500c6d5",
   "metadata": {},
   "outputs": [
    {
     "name": "stdout",
     "output_type": "stream",
     "text": [
      "['From :']\n"
     ]
    }
   ],
   "source": [
    "import re\n",
    "x='From : Using the : character'\n",
    "y=re.findall('^F.+?:',x)\n",
    "print(y)"
   ]
  },
  {
   "cell_type": "code",
   "execution_count": 21,
   "id": "9606e84e",
   "metadata": {},
   "outputs": [
    {
     "name": "stdout",
     "output_type": "stream",
     "text": [
      "20\n",
      "27\n",
      ".ac.za\n"
     ]
    }
   ],
   "source": [
    "import re\n",
    "data = 'From stephe.marquard@.ac.za Sat Jan 5 09:14:16 2008'\n",
    "atpos=data.find('@')\n",
    "print(atpos)\n",
    "sppos=data.find(' ',atpos)\n",
    "print(sppos)\n",
    "host=data[atpos+1:sppos]\n",
    "print(host)"
   ]
  },
  {
   "cell_type": "code",
   "execution_count": 25,
   "id": "aebc93ae",
   "metadata": {},
   "outputs": [
    {
     "name": "stdout",
     "output_type": "stream",
     "text": [
      ".ac.za\n"
     ]
    }
   ],
   "source": [
    "data = 'From stephe.marquard@.ac.za Sat Jan 5 09:14:16 2008'\n",
    "words=data.split()\n",
    "email=words[1]\n",
    "pieces=email.split('@')\n",
    "print(pieces[1])"
   ]
  },
  {
   "cell_type": "code",
   "execution_count": 38,
   "id": "d107cbaf",
   "metadata": {},
   "outputs": [
    {
     "name": "stdout",
     "output_type": "stream",
     "text": [
      "['.ac.za']\n"
     ]
    }
   ],
   "source": [
    "import re\n",
    "data = 'From stephe.marquard@.ac.za Sat Jan 5 09:14:16 2008'\n",
    "words=re.findall(\"^From .*@([^ ]+)\",data)\n",
    "print(words)\n"
   ]
  },
  {
   "cell_type": "code",
   "execution_count": null,
   "id": "fd380161",
   "metadata": {},
   "outputs": [],
   "source": []
  }
 ],
 "metadata": {
  "kernelspec": {
   "display_name": "Python 3 (ipykernel)",
   "language": "python",
   "name": "python3"
  },
  "language_info": {
   "codemirror_mode": {
    "name": "ipython",
    "version": 3
   },
   "file_extension": ".py",
   "mimetype": "text/x-python",
   "name": "python",
   "nbconvert_exporter": "python",
   "pygments_lexer": "ipython3",
   "version": "3.11.4"
  }
 },
 "nbformat": 4,
 "nbformat_minor": 5
}

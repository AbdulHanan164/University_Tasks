{
 "cells": [
  {
   "cell_type": "code",
   "execution_count": 2,
   "id": "63bda335",
   "metadata": {},
   "outputs": [
    {
     "ename": "ValueError",
     "evalue": "list.remove(x): x not in list",
     "output_type": "error",
     "traceback": [
      "\u001b[1;31m---------------------------------------------------------------------------\u001b[0m",
      "\u001b[1;31mValueError\u001b[0m                                Traceback (most recent call last)",
      "Cell \u001b[1;32mIn[2], line 4\u001b[0m\n\u001b[0;32m      2\u001b[0m fruit_List\u001b[38;5;241m=\u001b[39m[\u001b[38;5;124m\"\u001b[39m\u001b[38;5;124mapple\u001b[39m\u001b[38;5;124m\"\u001b[39m,\u001b[38;5;124m\"\u001b[39m\u001b[38;5;124mcherry\u001b[39m\u001b[38;5;124m\"\u001b[39m,\u001b[38;5;124m\"\u001b[39m\u001b[38;5;124morange\u001b[39m\u001b[38;5;124m\"\u001b[39m,\u001b[38;5;124m\"\u001b[39m\u001b[38;5;124mkiwi\u001b[39m\u001b[38;5;124m\"\u001b[39m,\u001b[38;5;124m\"\u001b[39m\u001b[38;5;124mmelon\u001b[39m\u001b[38;5;124m\"\u001b[39m,\u001b[38;5;124m\"\u001b[39m\u001b[38;5;124mmango\u001b[39m\u001b[38;5;124m\"\u001b[39m]\n\u001b[0;32m      3\u001b[0m fruit\u001b[38;5;241m=\u001b[39m[\u001b[38;5;124m\"\u001b[39m\u001b[38;5;124mBanana\u001b[39m\u001b[38;5;124m\"\u001b[39m]\n\u001b[1;32m----> 4\u001b[0m fruit_List\u001b[38;5;241m.\u001b[39mremove(\u001b[38;5;28mlist\u001b[39m[\u001b[38;5;241m1\u001b[39m])\u001b[38;5;66;03m#use remove function to remove in indexes\u001b[39;00m\n\u001b[0;32m      5\u001b[0m fruit_List\u001b[38;5;241m.\u001b[39mremove(\u001b[38;5;28mlist\u001b[39m[\u001b[38;5;241m4\u001b[39m])\n\u001b[0;32m      6\u001b[0m \u001b[38;5;28mprint\u001b[39m(\u001b[38;5;124m\"\u001b[39m\u001b[38;5;124mList after removing cherry and melon :\u001b[39m\u001b[38;5;124m\"\u001b[39m,fruit_List)\n",
      "\u001b[1;31mValueError\u001b[0m: list.remove(x): x not in list"
     ]
    }
   ],
   "source": [
    "#Task no 1:\n",
    "fruit_List=[\"apple\",\"cherry\",\"orange\",\"kiwi\",\"melon\",\"mango\"]\n",
    "fruit=[\"Banana\"]\n",
    "fruit_List.remove(list[1])#use remove function to remove in indexes\n",
    "fruit_List.remove(list[4])\n",
    "print(\"List after removing cherry and melon :\",fruit_List)\n",
    "fruit_List=fruit_List[:3]+fruit+fruit_List[3:]#using slicing to concatenate the two lists\n",
    "print(\"List after add banana in last list :\",fruit_List)\n"
   ]
  },
  {
   "cell_type": "code",
   "execution_count": null,
   "id": "32db5bd3",
   "metadata": {},
   "outputs": [],
   "source": [
    "#Task 2\n",
    "lists=[1,4,56,2,4,12,6,89,11,0]\n",
    "length_list=len(lists)#give length of the list to length_list\n",
    "i=0\n",
    "while i<length_list:#while runs to the size of the list\n",
    "    lists.pop()#will remove the all element on by one\n",
    "    i+=1\n",
    "print(\"List after deleting number :\",lists)\n"
   ]
  },
  {
   "cell_type": "code",
   "execution_count": 3,
   "id": "b4084636",
   "metadata": {},
   "outputs": [
    {
     "ename": "KeyboardInterrupt",
     "evalue": "Interrupted by user",
     "output_type": "error",
     "traceback": [
      "\u001b[1;31m---------------------------------------------------------------------------\u001b[0m",
      "\u001b[1;31mKeyboardInterrupt\u001b[0m                         Traceback (most recent call last)",
      "Cell \u001b[1;32mIn[3], line 3\u001b[0m\n\u001b[0;32m      1\u001b[0m \u001b[38;5;66;03m#Task 3\u001b[39;00m\n\u001b[0;32m      2\u001b[0m \u001b[38;5;28;01mimport\u001b[39;00m \u001b[38;5;21;01mrandom\u001b[39;00m\n\u001b[1;32m----> 3\u001b[0m num_of_element \u001b[38;5;241m=\u001b[39m \u001b[38;5;28mint\u001b[39m(\u001b[38;5;28minput\u001b[39m(\u001b[38;5;124m\"\u001b[39m\u001b[38;5;124mInput Number of elements: \u001b[39m\u001b[38;5;124m\"\u001b[39m))\n\u001b[0;32m      4\u001b[0m RandomList \u001b[38;5;241m=\u001b[39m []\n\u001b[0;32m      5\u001b[0m \u001b[38;5;28;01mfor\u001b[39;00m i \u001b[38;5;129;01min\u001b[39;00m \u001b[38;5;28mrange\u001b[39m(num_of_element):\u001b[38;5;66;03m#append random numbers inthe arrays\u001b[39;00m\n",
      "File \u001b[1;32mE:\\Anaconda\\Lib\\site-packages\\ipykernel\\kernelbase.py:1175\u001b[0m, in \u001b[0;36mKernel.raw_input\u001b[1;34m(self, prompt)\u001b[0m\n\u001b[0;32m   1171\u001b[0m \u001b[38;5;28;01mif\u001b[39;00m \u001b[38;5;129;01mnot\u001b[39;00m \u001b[38;5;28mself\u001b[39m\u001b[38;5;241m.\u001b[39m_allow_stdin:\n\u001b[0;32m   1172\u001b[0m     \u001b[38;5;28;01mraise\u001b[39;00m StdinNotImplementedError(\n\u001b[0;32m   1173\u001b[0m         \u001b[38;5;124m\"\u001b[39m\u001b[38;5;124mraw_input was called, but this frontend does not support input requests.\u001b[39m\u001b[38;5;124m\"\u001b[39m\n\u001b[0;32m   1174\u001b[0m     )\n\u001b[1;32m-> 1175\u001b[0m \u001b[38;5;28;01mreturn\u001b[39;00m \u001b[38;5;28mself\u001b[39m\u001b[38;5;241m.\u001b[39m_input_request(\n\u001b[0;32m   1176\u001b[0m     \u001b[38;5;28mstr\u001b[39m(prompt),\n\u001b[0;32m   1177\u001b[0m     \u001b[38;5;28mself\u001b[39m\u001b[38;5;241m.\u001b[39m_parent_ident[\u001b[38;5;124m\"\u001b[39m\u001b[38;5;124mshell\u001b[39m\u001b[38;5;124m\"\u001b[39m],\n\u001b[0;32m   1178\u001b[0m     \u001b[38;5;28mself\u001b[39m\u001b[38;5;241m.\u001b[39mget_parent(\u001b[38;5;124m\"\u001b[39m\u001b[38;5;124mshell\u001b[39m\u001b[38;5;124m\"\u001b[39m),\n\u001b[0;32m   1179\u001b[0m     password\u001b[38;5;241m=\u001b[39m\u001b[38;5;28;01mFalse\u001b[39;00m,\n\u001b[0;32m   1180\u001b[0m )\n",
      "File \u001b[1;32mE:\\Anaconda\\Lib\\site-packages\\ipykernel\\kernelbase.py:1217\u001b[0m, in \u001b[0;36mKernel._input_request\u001b[1;34m(self, prompt, ident, parent, password)\u001b[0m\n\u001b[0;32m   1214\u001b[0m             \u001b[38;5;28;01mbreak\u001b[39;00m\n\u001b[0;32m   1215\u001b[0m \u001b[38;5;28;01mexcept\u001b[39;00m \u001b[38;5;167;01mKeyboardInterrupt\u001b[39;00m:\n\u001b[0;32m   1216\u001b[0m     \u001b[38;5;66;03m# re-raise KeyboardInterrupt, to truncate traceback\u001b[39;00m\n\u001b[1;32m-> 1217\u001b[0m     \u001b[38;5;28;01mraise\u001b[39;00m \u001b[38;5;167;01mKeyboardInterrupt\u001b[39;00m(\u001b[38;5;124m\"\u001b[39m\u001b[38;5;124mInterrupted by user\u001b[39m\u001b[38;5;124m\"\u001b[39m) \u001b[38;5;28;01mfrom\u001b[39;00m \u001b[38;5;28;01mNone\u001b[39;00m\n\u001b[0;32m   1218\u001b[0m \u001b[38;5;28;01mexcept\u001b[39;00m \u001b[38;5;167;01mException\u001b[39;00m:\n\u001b[0;32m   1219\u001b[0m     \u001b[38;5;28mself\u001b[39m\u001b[38;5;241m.\u001b[39mlog\u001b[38;5;241m.\u001b[39mwarning(\u001b[38;5;124m\"\u001b[39m\u001b[38;5;124mInvalid Message:\u001b[39m\u001b[38;5;124m\"\u001b[39m, exc_info\u001b[38;5;241m=\u001b[39m\u001b[38;5;28;01mTrue\u001b[39;00m)\n",
      "\u001b[1;31mKeyboardInterrupt\u001b[0m: Interrupted by user"
     ]
    }
   ],
   "source": [
    "#Task 3\n",
    "import random\n",
    "num_of_element = int(input(\"Input Number of elements: \"))\n",
    "RandomList = []\n",
    "for i in range(num_of_element):#append random numbers inthe arrays\n",
    "    RandomList.append(random.randint(1, num_of_element))\n",
    "    print(RandomList[i], end=\" \")\n",
    "Max = RandomList[0]#initalize mini to index 0\n",
    "Min = RandomList[0]#initalize max to index 0\n",
    "for i in range(1, num_of_element):\n",
    "    if RandomList[i] > Max:#check index is greater\n",
    "        Max = RandomList[i]\n",
    "    elif RandomList[i] < Min:#check index in smaller\n",
    "        Min = RandomList[i]\n",
    "print(\"\\nMaximum Number is:\", Max)\n",
    "print(\"Minimum Number is:\", Min)\n"
   ]
  },
  {
   "cell_type": "code",
   "execution_count": 5,
   "id": "f15d3ea4",
   "metadata": {},
   "outputs": [
    {
     "name": "stdout",
     "output_type": "stream",
     "text": [
      "Tuple before adding : ('Abdul', 'Hanan', 12, '14', 'orange', 4.5)\n",
      "Tuple after adding is : ('Abdul', 'Hanan', 12, '14', 'orange', 4.5, 6.5)\n",
      "Number of integers are : 1\n",
      "Number of floats are : 2\n",
      "Number of string are : 4\n"
     ]
    }
   ],
   "source": [
    "#Task no 4:\n",
    "def checker(Lists):\n",
    "    string_count=0\n",
    "    float_count=0\n",
    "    int_count=0\n",
    "    for i in Lists:\n",
    "        if isinstance(i,int):#use isinstance to check index from it datatype class\n",
    "            int_count+=1\n",
    "        elif isinstance(i,float):\n",
    "            float_count+=1\n",
    "        elif isinstance(i,str):\n",
    "            string_count+=1\n",
    "    print(\"Number of integers are :\",int_count)\n",
    "    print(\"Number of floats are :\",float_count)\n",
    "    print(\"Number of string are :\",string_count)\n",
    "Tuple_List=(\"Abdul\",\"Hanan\",12,\"14\",\"orange\",4.5,)\n",
    "print(\"Tuple before adding :\",Tuple_List)\n",
    "Add_Tuple=(6.5,)\n",
    "Tuple_List+=Add_Tuple#concatenate the tuple into another tuple\n",
    "print(\"Tuple after adding is :\",Tuple_List)\n",
    "checker(Tuple_List)#call the checker\n"
   ]
  },
  {
   "cell_type": "code",
   "execution_count": 6,
   "id": "ae35d701",
   "metadata": {},
   "outputs": [
    {
     "name": "stdout",
     "output_type": "stream",
     "text": [
      "{'brand': 'Samsung', 'OS type': 'Oreo', 'color': 'black', 'camera': '42 mega pixels', 'year': 2012, 'sizes': [1, 2, 5, 3, 3]}\n",
      "After deleting year : {'brand': 'Samsung', 'OS type': 'Oreo', 'color': 'black', 'camera': '42 mega pixels', 'sizes': [1, 2, 5, 3, 3]}\n",
      "Brand\n",
      "Color\n",
      "Camera\n",
      "Os type\n",
      "Sizes\n"
     ]
    }
   ],
   "source": [
    "#Task 5 \n",
    "import random\n",
    "Dic={\"brand\":\"Samsung\",\"OS type\":\"Oreo\",\"color\":\"black\",\"camera\":\"42 mega pixels\",\"year\":2012}\n",
    "Dic[\"sizes\"]=[random.randint(1,5) for i in range (0,5)]#add random sizes to list using list composition\n",
    "print(Dic)\n",
    "del Dic[\"year\"]#delete year\n",
    "print(\"After deleting year :\",Dic)\n",
    "other_dic=(\"brand\",\"color\",\"camera\",\"OS Type\",\"sizes\")\n",
    "for key in other_dic:\n",
    "    print(key.capitalize())#convert small letter into captial letters\n"
   ]
  },
  {
   "cell_type": "code",
   "execution_count": 7,
   "id": "d9caed6d",
   "metadata": {},
   "outputs": [
    {
     "name": "stdout",
     "output_type": "stream",
     "text": [
      "print sum of list is : [14, 26, 38, 76, 42, 87, 133, 129, 120, 319, 5]\n"
     ]
    }
   ],
   "source": [
    "#Task no 6:\n",
    "def sum(list1,list2):#taking both list as argument\n",
    "    list3=[]#empty list\n",
    "    for i in range (0,len(list1)):\n",
    "        sumoflist=list1[i]+list2[i]#adding both list\n",
    "        list3.append(sumoflist)\n",
    "    print(\"print sum of list is :\",list3)\n",
    "list1=[11,22,33,44,21,54,67,54,33,222,4]\n",
    "list2=[3,4,5,32,21,33,66,75,87,97,1]\n",
    "sum(list1,list2)#call a sum function\n"
   ]
  },
  {
   "cell_type": "code",
   "execution_count": 8,
   "id": "1cf9d1c0",
   "metadata": {},
   "outputs": [
    {
     "name": "stdout",
     "output_type": "stream",
     "text": [
      "List after sorted in desending order : [34, 23, 12, 12, 7, 6, 5, 5, 4, 3, 3]\n"
     ]
    }
   ],
   "source": [
    "#Task no 7:\n",
    "def dsort(sort_list):\n",
    "    l=len(sort_list)\n",
    "    for i in range (l):\n",
    "        for j in range (i,l):#use bubble sort\n",
    "            if sort_list[i]<sort_list[j]:#swap the numbers in desending order\n",
    "                temp=sort_list[i]\n",
    "                sort_list[i]=sort_list[j]\n",
    "                sort_list[j]=temp                \n",
    "    print(\"List after sorted in desending order :\",sort_list)\n",
    "sort_list=[5,6,7,23,12,3,3,4,5,12,34]\n",
    "dsort(sort_list)\n"
   ]
  },
  {
   "cell_type": "code",
   "execution_count": null,
   "id": "24d083dd",
   "metadata": {},
   "outputs": [],
   "source": []
  }
 ],
 "metadata": {
  "kernelspec": {
   "display_name": "Python 3 (ipykernel)",
   "language": "python",
   "name": "python3"
  },
  "language_info": {
   "codemirror_mode": {
    "name": "ipython",
    "version": 3
   },
   "file_extension": ".py",
   "mimetype": "text/x-python",
   "name": "python",
   "nbconvert_exporter": "python",
   "pygments_lexer": "ipython3",
   "version": "3.11.4"
  }
 },
 "nbformat": 4,
 "nbformat_minor": 5
}

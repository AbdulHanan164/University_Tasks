{
 "cells": [
  {
   "cell_type": "code",
   "execution_count": null,
   "id": "a49c3cae",
   "metadata": {},
   "outputs": [],
   "source": [
    "# Question no:1 part(a)\n",
    "class Shape(object):\n",
    "    def __init__(self, length, width):        \n",
    "        self.length = length\n",
    "        self.width = width\n",
    "    def calculate_area(self):\n",
    "        return self.length * self.width\n",
    "class Circle(Shape):\n",
    "    def __init__(self, radius):\n",
    "        super().__init__(radius, radius)  # Assuming width is the same as length for a circle\n",
    "        self.radius = radius\n",
    "    def calculate_circumference(self):\n",
    "        return 2 * 3.14 * self.radius\n",
    "while True:\n",
    "    print(\"\\nMenu:\")\n",
    "    print(\"1. Create a regular shape\")\n",
    "    print(\"2. Create a circle\")\n",
    "    print(\"3. Exit\")\n",
    "    choice = input(\"Enter your choice (1, 2, or 3): \")\n",
    "    if choice == '1':\n",
    "        length = float(input(\"Enter length of the Shape: \"))\n",
    "        width = float(input(\"Enter width of the Shape: \"))\n",
    "        obj = Shape(length, width)\n",
    "        print(\"Area of the Shape:\", obj.calculate_area())\n",
    "    elif choice == '2':\n",
    "        radius = float(input(\"Enter radius of the Circle: \"))\n",
    "        obj = Circle(radius)\n",
    "        print(\"Circumference of the Circle:\", obj.calculate_circumference())\n",
    "    elif choice == '3':\n",
    "        print(\"Exit (^_^)| Bye!\")\n",
    "        break\n",
    "    else:\n",
    "        print(\"Invalid choice. Please enter 1, 2, or 3.\")"
   ]
  },
  {
   "cell_type": "markdown",
   "id": "3971f7c3",
   "metadata": {},
   "source": [
    "# Question no :1 Part (b)"
   ]
  },
  {
   "cell_type": "code",
   "execution_count": 2,
   "id": "9eee1f67",
   "metadata": {},
   "outputs": [
    {
     "name": "stdout",
     "output_type": "stream",
     "text": [
      "Enter your initial balance: 50000\n",
      "\n",
      "Menu:\n",
      "1. Deposit money\n",
      "2. Withdraw money\n",
      "3. Check current balance\n",
      "4. Exit\n",
      "Enter your choice (1, 2, 3, or 4): 1\n",
      "Enter the deposit amount: 500\n",
      "Deposited PKR:500.0. New balance is PKR:50500.0\n",
      "\n",
      "Menu:\n",
      "1. Deposit money\n",
      "2. Withdraw money\n",
      "3. Check current balance\n",
      "4. Exit\n",
      "Enter your choice (1, 2, 3, or 4): 500\n",
      "Invalid choice. Please enter 1, 2, 3, or 4.\n",
      "\n",
      "Menu:\n",
      "1. Deposit money\n",
      "2. Withdraw money\n",
      "3. Check current balance\n",
      "4. Exit\n",
      "Enter your choice (1, 2, 3, or 4): 3\n",
      "Current balance: 50500.0\n",
      "\n",
      "Menu:\n",
      "1. Deposit money\n",
      "2. Withdraw money\n",
      "3. Check current balance\n",
      "4. Exit\n",
      "Enter your choice (1, 2, 3, or 4): 2\n",
      "Enter the withdrawal amount: 500\n",
      "Withdrew PKR:500.0. New balance: PKR:50000.0\n",
      "\n",
      "Menu:\n",
      "1. Deposit money\n",
      "2. Withdraw money\n",
      "3. Check current balance\n",
      "4. Exit\n",
      "Enter your choice (1, 2, 3, or 4): 2\n",
      "Enter the withdrawal amount: 500\n",
      "Withdrew PKR:500.0. New balance: PKR:49500.0\n",
      "\n",
      "Menu:\n",
      "1. Deposit money\n",
      "2. Withdraw money\n",
      "3. Check current balance\n",
      "4. Exit\n",
      "Enter your choice (1, 2, 3, or 4): 4\n",
      "Exiting the program. Goodbye!\n"
     ]
    }
   ],
   "source": [
    "class BankAccount(object):\n",
    "    def __init__(self, initial_balance):\n",
    "        self.__balance = initial_balance\n",
    "    def deposit(self, deposit_amount):\n",
    "        if deposit_amount > 0:\n",
    "            self.__balance += deposit_amount\n",
    "            print(f\"Deposited PKR:{deposit_amount}. New balance is PKR:{self.__balance}\")\n",
    "        else:\n",
    "            print(\"Invalid deposit amount please enter a positive value.\")\n",
    "    def withdraw(self, withdraw_amount):\n",
    "        if withdraw_amount <= 0:\n",
    "            print(\"Invalid input for Withdraw\")\n",
    "        elif withdraw_amount > self.__balance:\n",
    "            print(\"Insufficient balance for Withdraw\")\n",
    "        else:\n",
    "            self.__balance -= withdraw_amount\n",
    "            print(f\"Withdrew PKR:{withdraw_amount}. New balance: PKR:{self.__balance}\")\n",
    "    def current_balance(self):\n",
    "        return self.__balance\n",
    "balance = float(input(\"Enter your initial balance: \"))\n",
    "bank_account = BankAccount(balance)\n",
    "while True:\n",
    "    print(\"\\nMenu:\")\n",
    "    print(\"1. Deposit money\")\n",
    "    print(\"2. Withdraw money\")\n",
    "    print(\"3. Check current balance\")\n",
    "    print(\"4. Exit\")\n",
    "    choice = input(\"Enter your choice (1, 2, 3, or 4): \")\n",
    "    if choice == '1':\n",
    "        deposit_amount = float(input(\"Enter the deposit amount: \"))\n",
    "        bank_account.deposit(deposit_amount)\n",
    "    elif choice == '2':\n",
    "        withdraw_amount = float(input(\"Enter the withdrawal amount: \"))\n",
    "        bank_account.withdraw(withdraw_amount)\n",
    "    elif choice == '3':\n",
    "        print(\"Current balance:\", bank_account.current_balance())\n",
    "    elif choice == '4':\n",
    "        print(\"Exit (^_^)| Goodbye!\")\n",
    "        break\n",
    "    else:\n",
    "        print(\"Invalid choice. Please enter 1, 2, 3, or 4.\")"
   ]
  },
  {
   "cell_type": "markdown",
   "id": "27297355",
   "metadata": {},
   "source": [
    "# Question 1:Part(c)"
   ]
  },
  {
   "cell_type": "code",
   "execution_count": 28,
   "id": "cd559d50",
   "metadata": {},
   "outputs": [
    {
     "name": "stdout",
     "output_type": "stream",
     "text": [
      "Enter name of the person: Hanan\n",
      "Enter age of the person (press Enter if not specified): 20\n",
      "Name of the person is Hanan and Age is 20\n"
     ]
    }
   ],
   "source": [
    "class Person(object):\n",
    "    def __init__(self, name, age=None):\n",
    "        self.name = name\n",
    "        self.age = age\n",
    "    def display(self):\n",
    "        if self.age is not None:\n",
    "            print(f\"Name of the person is {self.name} and Age is {self.age}\")\n",
    "        else:\n",
    "            print(f\"Name of the person is {self.name} and Age is not given\")\n",
    "Name = input(\"Enter name of the person: \")\n",
    "Age = int(input(\"Enter age of the person (press Enter if not specified): \") or 21)\n",
    "A = Person(Name, Age)\n",
    "A.display()"
   ]
  },
  {
   "cell_type": "markdown",
   "id": "2945bbb9",
   "metadata": {},
   "source": [
    "# Question no:1 Part(d)"
   ]
  },
  {
   "cell_type": "code",
   "execution_count": null,
   "id": "fabfb288",
   "metadata": {},
   "outputs": [
    {
     "name": "stdout",
     "output_type": "stream",
     "text": [
      "\n",
      "Menu:\n",
      "1. Calculate area of a rectangle\n",
      "2. Calculate area of a circle\n",
      "3. Exit\n"
     ]
    }
   ],
   "source": [
    "class Shape(object):\n",
    "    def __init__(self, length, width):\n",
    "        self.length = length\n",
    "        self.width = width\n",
    "    def area(self):\n",
    "        return self.length * self.width\n",
    "class Circle(Shape):\n",
    "    def __init__(self, radius):\n",
    "        super().__init__(radius, radius)  # Assuming width is the same as length for a circle\n",
    "        self.radius = radius\n",
    "    def area(self):\n",
    "        return 3.14 * self.radius * self.radius  # Area of a circle\n",
    "    def circumference(self):\n",
    "        return 2 * 3.14 * self.radius\n",
    "while True:\n",
    "    print(\"\\nMenu:\")\n",
    "    print(\"1. Calculate area of a rectangle\")\n",
    "    print(\"2. Calculate area of a circle\")\n",
    "    print(\"3. Exit\")\n",
    "    choice = input(\"Enter your choice (1, 2, or 3): \")\n",
    "    if choice == '1':\n",
    "        length = float(input(\"Enter length of the rectangle: \"))\n",
    "        width = float(input(\"Enter width of the rectangle: \"))\n",
    "        rectangle = Shape(length, width)\n",
    "        print(f\"Area of the rectangle: {rectangle.area()}\")\n",
    "    elif choice == '2':\n",
    "        radius = float(input(\"Enter radius of the circle: \"))\n",
    "        circle = Circle(radius)\n",
    "        print(f\"Area of the circle: {circle.area()}\")\n",
    "        print(f\"Circumference of the circle: {circle.circumference()}\")\n",
    "    elif choice == '3':\n",
    "        print(\"Exit (^_^)| Goodbye!\")\n",
    "        break\n",
    "    else:\n",
    "        print(\"Invalid choice. Please enter 1, 2, or 3.\")"
   ]
  },
  {
   "cell_type": "markdown",
   "id": "946f6b02",
   "metadata": {},
   "source": [
    "# Question 2:"
   ]
  },
  {
   "cell_type": "code",
   "execution_count": 3,
   "id": "ff14917f",
   "metadata": {},
   "outputs": [
    {
     "name": "stdout",
     "output_type": "stream",
     "text": [
      "\n",
      "Menu:\n",
      "1. Start Car Engine\n",
      "2. Pedal Bicycle\n",
      "3. Drive Hybrid Car\n",
      "4. Recharge Hybrid Car Battery\n",
      "5. Display Vehicle Information\n",
      "6. Exit\n",
      "Enter your choice between 1 to 6: 1\n",
      "Starting the Engine:\n",
      "\n",
      "Menu:\n",
      "1. Start Car Engine\n",
      "2. Pedal Bicycle\n",
      "3. Drive Hybrid Car\n",
      "4. Recharge Hybrid Car Battery\n",
      "5. Display Vehicle Information\n",
      "6. Exit\n",
      "Enter your choice between 1 to 6: 2\n",
      "Pedaling the bicycle\n",
      "\n",
      "Menu:\n",
      "1. Start Car Engine\n",
      "2. Pedal Bicycle\n",
      "3. Drive Hybrid Car\n",
      "4. Recharge Hybrid Car Battery\n",
      "5. Display Vehicle Information\n",
      "6. Exit\n"
     ]
    },
    {
     "ename": "KeyboardInterrupt",
     "evalue": "Interrupted by user",
     "output_type": "error",
     "traceback": [
      "\u001b[1;31m---------------------------------------------------------------------------\u001b[0m",
      "\u001b[1;31mKeyboardInterrupt\u001b[0m                         Traceback (most recent call last)",
      "Cell \u001b[1;32mIn[3], line 38\u001b[0m\n\u001b[0;32m     36\u001b[0m \u001b[38;5;28mprint\u001b[39m(\u001b[38;5;124m\"\u001b[39m\u001b[38;5;124m5. Display Vehicle Information\u001b[39m\u001b[38;5;124m\"\u001b[39m)\n\u001b[0;32m     37\u001b[0m \u001b[38;5;28mprint\u001b[39m(\u001b[38;5;124m\"\u001b[39m\u001b[38;5;124m6. Exit\u001b[39m\u001b[38;5;124m\"\u001b[39m)\n\u001b[1;32m---> 38\u001b[0m choice \u001b[38;5;241m=\u001b[39m \u001b[38;5;28minput\u001b[39m(\u001b[38;5;124m\"\u001b[39m\u001b[38;5;124mEnter your choice between 1 to 6: \u001b[39m\u001b[38;5;124m\"\u001b[39m)\n\u001b[0;32m     39\u001b[0m \u001b[38;5;28;01mif\u001b[39;00m choice \u001b[38;5;241m==\u001b[39m \u001b[38;5;124m'\u001b[39m\u001b[38;5;124m1\u001b[39m\u001b[38;5;124m'\u001b[39m:\n\u001b[0;32m     40\u001b[0m     car \u001b[38;5;241m=\u001b[39m Car(\u001b[38;5;124m\"\u001b[39m\u001b[38;5;124mToyota\u001b[39m\u001b[38;5;124m\"\u001b[39m)\n",
      "File \u001b[1;32mC:\\New folder\\Lib\\site-packages\\ipykernel\\kernelbase.py:1175\u001b[0m, in \u001b[0;36mKernel.raw_input\u001b[1;34m(self, prompt)\u001b[0m\n\u001b[0;32m   1171\u001b[0m \u001b[38;5;28;01mif\u001b[39;00m \u001b[38;5;129;01mnot\u001b[39;00m \u001b[38;5;28mself\u001b[39m\u001b[38;5;241m.\u001b[39m_allow_stdin:\n\u001b[0;32m   1172\u001b[0m     \u001b[38;5;28;01mraise\u001b[39;00m StdinNotImplementedError(\n\u001b[0;32m   1173\u001b[0m         \u001b[38;5;124m\"\u001b[39m\u001b[38;5;124mraw_input was called, but this frontend does not support input requests.\u001b[39m\u001b[38;5;124m\"\u001b[39m\n\u001b[0;32m   1174\u001b[0m     )\n\u001b[1;32m-> 1175\u001b[0m \u001b[38;5;28;01mreturn\u001b[39;00m \u001b[38;5;28mself\u001b[39m\u001b[38;5;241m.\u001b[39m_input_request(\n\u001b[0;32m   1176\u001b[0m     \u001b[38;5;28mstr\u001b[39m(prompt),\n\u001b[0;32m   1177\u001b[0m     \u001b[38;5;28mself\u001b[39m\u001b[38;5;241m.\u001b[39m_parent_ident[\u001b[38;5;124m\"\u001b[39m\u001b[38;5;124mshell\u001b[39m\u001b[38;5;124m\"\u001b[39m],\n\u001b[0;32m   1178\u001b[0m     \u001b[38;5;28mself\u001b[39m\u001b[38;5;241m.\u001b[39mget_parent(\u001b[38;5;124m\"\u001b[39m\u001b[38;5;124mshell\u001b[39m\u001b[38;5;124m\"\u001b[39m),\n\u001b[0;32m   1179\u001b[0m     password\u001b[38;5;241m=\u001b[39m\u001b[38;5;28;01mFalse\u001b[39;00m,\n\u001b[0;32m   1180\u001b[0m )\n",
      "File \u001b[1;32mC:\\New folder\\Lib\\site-packages\\ipykernel\\kernelbase.py:1217\u001b[0m, in \u001b[0;36mKernel._input_request\u001b[1;34m(self, prompt, ident, parent, password)\u001b[0m\n\u001b[0;32m   1214\u001b[0m             \u001b[38;5;28;01mbreak\u001b[39;00m\n\u001b[0;32m   1215\u001b[0m \u001b[38;5;28;01mexcept\u001b[39;00m \u001b[38;5;167;01mKeyboardInterrupt\u001b[39;00m:\n\u001b[0;32m   1216\u001b[0m     \u001b[38;5;66;03m# re-raise KeyboardInterrupt, to truncate traceback\u001b[39;00m\n\u001b[1;32m-> 1217\u001b[0m     \u001b[38;5;28;01mraise\u001b[39;00m \u001b[38;5;167;01mKeyboardInterrupt\u001b[39;00m(\u001b[38;5;124m\"\u001b[39m\u001b[38;5;124mInterrupted by user\u001b[39m\u001b[38;5;124m\"\u001b[39m) \u001b[38;5;28;01mfrom\u001b[39;00m \u001b[38;5;28;01mNone\u001b[39;00m\n\u001b[0;32m   1218\u001b[0m \u001b[38;5;28;01mexcept\u001b[39;00m \u001b[38;5;167;01mException\u001b[39;00m:\n\u001b[0;32m   1219\u001b[0m     \u001b[38;5;28mself\u001b[39m\u001b[38;5;241m.\u001b[39mlog\u001b[38;5;241m.\u001b[39mwarning(\u001b[38;5;124m\"\u001b[39m\u001b[38;5;124mInvalid Message:\u001b[39m\u001b[38;5;124m\"\u001b[39m, exc_info\u001b[38;5;241m=\u001b[39m\u001b[38;5;28;01mTrue\u001b[39;00m)\n",
      "\u001b[1;31mKeyboardInterrupt\u001b[0m: Interrupted by user"
     ]
    }
   ],
   "source": [
    "class Vehicle(object):\n",
    "    def __init__(self, brand):\n",
    "        self.brand = brand\n",
    "    def display(self):\n",
    "        print(f\"Brand of this vehicle is {self.brand}:\")\n",
    "class Car(Vehicle):\n",
    "    def start_engine(self):\n",
    "        print(\"Starting the Engine:\")\n",
    "class Bicycle(Vehicle):\n",
    "    def pedal(self):\n",
    "        print(\"Pedaling the bicycle\")\n",
    "class HybridCar(Car, Bicycle):\n",
    "    def __init__(self, brand, fuel_type):\n",
    "        super().__init__(brand)\n",
    "        self.fuel_type = fuel_type\n",
    "        self.battery_charge = 100 \n",
    "    def display(self):\n",
    "        print(f\"Hybrid car of Fuel-Type {self.fuel_type}, Brand is {self.brand}, and Battery Charge: {self.battery_charge}%\")\n",
    "    def recharge_battery(self, amount):\n",
    "        self.battery_charge = min(100, self.battery_charge + amount)\n",
    "        print(f\"Battery recharged. Current charge: {self.battery_charge}%\")\n",
    "    def drive(self, distance):\n",
    "        if self.battery_charge > 0:\n",
    "            print(f\"Driving {distance} miles on electricity.\")\n",
    "            self.battery_charge = max(0, self.battery_charge - 10 * distance)  # Updated to subtract charge\n",
    "            print(f\"Battery charge remaining: {self.battery_charge}%\")\n",
    "        else:\n",
    "            print(\"Battery is empty. Starting the engine.\")\n",
    "            super().start_engine()\n",
    "while True:\n",
    "    print(\"\\nMenu:\")\n",
    "    print(\"1. Start Car Engine\")\n",
    "    print(\"2. Pedal Bicycle\")\n",
    "    print(\"3. Drive Hybrid Car\")\n",
    "    print(\"4. Recharge Hybrid Car Battery\")\n",
    "    print(\"5. Display Vehicle Information\")\n",
    "    print(\"6. Exit\")\n",
    "    choice = input(\"Enter your choice between 1 to 6: \")\n",
    "    if choice == '1':\n",
    "        car = Car(\"Toyota\")\n",
    "        car.start_engine()\n",
    "    elif choice == '2':\n",
    "        bicycle = Bicycle(\"Schwinn\")\n",
    "        bicycle.pedal()\n",
    "    elif choice == '3':\n",
    "        hybrid_car = HybridCar(\"Toyota Prius\", \"electricity and gasoline\")\n",
    "        distance = float(input(\"Enter the distance to drive (in miles): \"))\n",
    "        hybrid_car.drive(distance)\n",
    "    elif choice == '4':\n",
    "        hybrid_car = HybridCar(\"Toyota Prius\", \"electricity and gasoline\")\n",
    "        amount = int(input(\"Enter the amount to recharge the battery (in percentage): \"))\n",
    "        hybrid_car.recharge_battery(amount)\n",
    "    elif choice == '5':\n",
    "        hybrid_car = HybridCar(\"Toyota Prius\", \"electricity and gasoline\")\n",
    "        hybrid_car.display()\n",
    "    elif choice == '6':\n",
    "        print(\"Exiting the program. Goodbye!\")\n",
    "        break\n",
    "    else:\n",
    "        print(\"Invalid choice. Please enter a number from 1 to 6.\")"
   ]
  },
  {
   "cell_type": "markdown",
   "id": "de88b51d",
   "metadata": {},
   "source": [
    "# Question 3:(a)"
   ]
  },
  {
   "cell_type": "code",
   "execution_count": 4,
   "id": "23024e6b",
   "metadata": {},
   "outputs": [
    {
     "ename": "KeyboardInterrupt",
     "evalue": "Interrupted by user",
     "output_type": "error",
     "traceback": [
      "\u001b[1;31m---------------------------------------------------------------------------\u001b[0m",
      "\u001b[1;31mKeyboardInterrupt\u001b[0m                         Traceback (most recent call last)",
      "Cell \u001b[1;32mIn[4], line 4\u001b[0m\n\u001b[0;32m      2\u001b[0m arr_1d \u001b[38;5;241m=\u001b[39m []\n\u001b[0;32m      3\u001b[0m \u001b[38;5;28;01mfor\u001b[39;00m i \u001b[38;5;129;01min\u001b[39;00m \u001b[38;5;28mrange\u001b[39m(\u001b[38;5;241m20\u001b[39m):\n\u001b[1;32m----> 4\u001b[0m     num \u001b[38;5;241m=\u001b[39m \u001b[38;5;28minput\u001b[39m(\u001b[38;5;124mf\u001b[39m\u001b[38;5;124m\"\u001b[39m\u001b[38;5;124mEnter element at index \u001b[39m\u001b[38;5;132;01m{\u001b[39;00mi\u001b[38;5;250m \u001b[39m\u001b[38;5;241m+\u001b[39m\u001b[38;5;250m \u001b[39m\u001b[38;5;241m1\u001b[39m\u001b[38;5;132;01m}\u001b[39;00m\u001b[38;5;124m: \u001b[39m\u001b[38;5;124m\"\u001b[39m)\n\u001b[0;32m      5\u001b[0m     arr_1d\u001b[38;5;241m.\u001b[39mappend(num)\n\u001b[0;32m      6\u001b[0m \u001b[38;5;66;03m# Convert the list to a NumPy array\u001b[39;00m\n",
      "File \u001b[1;32mC:\\New folder\\Lib\\site-packages\\ipykernel\\kernelbase.py:1175\u001b[0m, in \u001b[0;36mKernel.raw_input\u001b[1;34m(self, prompt)\u001b[0m\n\u001b[0;32m   1171\u001b[0m \u001b[38;5;28;01mif\u001b[39;00m \u001b[38;5;129;01mnot\u001b[39;00m \u001b[38;5;28mself\u001b[39m\u001b[38;5;241m.\u001b[39m_allow_stdin:\n\u001b[0;32m   1172\u001b[0m     \u001b[38;5;28;01mraise\u001b[39;00m StdinNotImplementedError(\n\u001b[0;32m   1173\u001b[0m         \u001b[38;5;124m\"\u001b[39m\u001b[38;5;124mraw_input was called, but this frontend does not support input requests.\u001b[39m\u001b[38;5;124m\"\u001b[39m\n\u001b[0;32m   1174\u001b[0m     )\n\u001b[1;32m-> 1175\u001b[0m \u001b[38;5;28;01mreturn\u001b[39;00m \u001b[38;5;28mself\u001b[39m\u001b[38;5;241m.\u001b[39m_input_request(\n\u001b[0;32m   1176\u001b[0m     \u001b[38;5;28mstr\u001b[39m(prompt),\n\u001b[0;32m   1177\u001b[0m     \u001b[38;5;28mself\u001b[39m\u001b[38;5;241m.\u001b[39m_parent_ident[\u001b[38;5;124m\"\u001b[39m\u001b[38;5;124mshell\u001b[39m\u001b[38;5;124m\"\u001b[39m],\n\u001b[0;32m   1178\u001b[0m     \u001b[38;5;28mself\u001b[39m\u001b[38;5;241m.\u001b[39mget_parent(\u001b[38;5;124m\"\u001b[39m\u001b[38;5;124mshell\u001b[39m\u001b[38;5;124m\"\u001b[39m),\n\u001b[0;32m   1179\u001b[0m     password\u001b[38;5;241m=\u001b[39m\u001b[38;5;28;01mFalse\u001b[39;00m,\n\u001b[0;32m   1180\u001b[0m )\n",
      "File \u001b[1;32mC:\\New folder\\Lib\\site-packages\\ipykernel\\kernelbase.py:1217\u001b[0m, in \u001b[0;36mKernel._input_request\u001b[1;34m(self, prompt, ident, parent, password)\u001b[0m\n\u001b[0;32m   1214\u001b[0m             \u001b[38;5;28;01mbreak\u001b[39;00m\n\u001b[0;32m   1215\u001b[0m \u001b[38;5;28;01mexcept\u001b[39;00m \u001b[38;5;167;01mKeyboardInterrupt\u001b[39;00m:\n\u001b[0;32m   1216\u001b[0m     \u001b[38;5;66;03m# re-raise KeyboardInterrupt, to truncate traceback\u001b[39;00m\n\u001b[1;32m-> 1217\u001b[0m     \u001b[38;5;28;01mraise\u001b[39;00m \u001b[38;5;167;01mKeyboardInterrupt\u001b[39;00m(\u001b[38;5;124m\"\u001b[39m\u001b[38;5;124mInterrupted by user\u001b[39m\u001b[38;5;124m\"\u001b[39m) \u001b[38;5;28;01mfrom\u001b[39;00m \u001b[38;5;28;01mNone\u001b[39;00m\n\u001b[0;32m   1218\u001b[0m \u001b[38;5;28;01mexcept\u001b[39;00m \u001b[38;5;167;01mException\u001b[39;00m:\n\u001b[0;32m   1219\u001b[0m     \u001b[38;5;28mself\u001b[39m\u001b[38;5;241m.\u001b[39mlog\u001b[38;5;241m.\u001b[39mwarning(\u001b[38;5;124m\"\u001b[39m\u001b[38;5;124mInvalid Message:\u001b[39m\u001b[38;5;124m\"\u001b[39m, exc_info\u001b[38;5;241m=\u001b[39m\u001b[38;5;28;01mTrue\u001b[39;00m)\n",
      "\u001b[1;31mKeyboardInterrupt\u001b[0m: Interrupted by user"
     ]
    }
   ],
   "source": [
    "import numpy as np\n",
    "arr_1d = []\n",
    "for i in range(20):\n",
    "    num = input(f\"Enter element at index {i + 1}: \")\n",
    "    arr_1d.append(num)\n",
    "# Convert the list to a NumPy array\n",
    "arr_1d = np.array(arr_1d)\n",
    "# Reshape the 1D array into a 2D array with 4 rows and 5 columns\n",
    "arr_2d = arr_1d.reshape(4, 5)\n",
    "print(\"Original 1D array:\")\n",
    "print(arr_1d)\n",
    "print(\"\\nReshaped 2D array:\")\n",
    "print(arr_2d)"
   ]
  },
  {
   "cell_type": "markdown",
   "id": "fab6f331",
   "metadata": {},
   "source": [
    "# Question no:3 Part(B)"
   ]
  },
  {
   "cell_type": "code",
   "execution_count": 6,
   "id": "d4661884",
   "metadata": {},
   "outputs": [
    {
     "name": "stdout",
     "output_type": "stream",
     "text": [
      "Generated random array is:\n",
      "[ 0 75 50 20 58 18 83 61  4 36 69  2 14 78 39 31  4 82 13 20]\n",
      "\n",
      "Maximum value in the array is : 83\n",
      "Minimum value in the array is : 0\n"
     ]
    }
   ],
   "source": [
    "import numpy as np\n",
    "random_array = np.random.randint(0, 100,20)\n",
    "max_value = np.max(random_array)\n",
    "min_value = np.min(random_array)\n",
    "print(\"Generated random array is:\")\n",
    "print(random_array)\n",
    "print(\"\\nMaximum value in the array is :\", max_value)\n",
    "print(\"Minimum value in the array is :\", min_value)"
   ]
  },
  {
   "cell_type": "markdown",
   "id": "aea19ccb",
   "metadata": {},
   "source": [
    "# Question no 3:Part(C)"
   ]
  },
  {
   "cell_type": "code",
   "execution_count": 8,
   "id": "ac6bf04b",
   "metadata": {},
   "outputs": [
    {
     "name": "stdout",
     "output_type": "stream",
     "text": [
      "Original array:\n",
      "[ 0 75 50 20 58 18 83 61  4 36 69  2 14 78 39 31  4 82 13 20]\n",
      "\n",
      "Mask for values greater than 50:\n",
      "[False  True False False  True False  True  True False False  True False\n",
      " False  True False False False  True False False]\n",
      "\n",
      "Filtered values greater than 50:\n",
      "[75 58 83 61 69 78 82]\n"
     ]
    }
   ],
   "source": [
    "mask = random_array > 50\n",
    "filtered_values = random_array[mask]\n",
    "# Display the original array, mask and filtered values\n",
    "print(\"Original array:\")\n",
    "print(random_array)\n",
    "print(\"\\nMask for values greater than 50:\")\n",
    "print(mask)\n",
    "print(\"\\nFiltered values greater than 50:\")\n",
    "print(filtered_values)"
   ]
  },
  {
   "cell_type": "markdown",
   "id": "f44eee79",
   "metadata": {},
   "source": [
    "# Question no:3 Part(D)"
   ]
  },
  {
   "cell_type": "code",
   "execution_count": 45,
   "id": "4a669aba",
   "metadata": {},
   "outputs": [
    {
     "name": "stdout",
     "output_type": "stream",
     "text": [
      "[6 7 8]\n"
     ]
    }
   ],
   "source": [
    "\"\"\"Broadcasting in NumPy is a powerful feature that allows you to perform operations on arrays of different shapes.\n",
    "When you operate on two arrays of different shapes NumPy automatically broadcasts the smaller array to match the dimensions of the larger array.\n",
    "This means that the smaller array is effectively duplicated along the missing dimensions.\n",
    "Broadcasting is a very efficient way to perform element wise operations on arrays, and it can often save you a lot of time and code compared to using explicit loops.\n",
    "However it is important to understand the rules of broadcasting in order to use it effectively.\n",
    "Rules of Broadcasting\n",
    "There are two main rules of broadcasting in NumPy:\n",
    "Dimensions must be compatible. The two arrays must have the same number of dimensions except for trailing dimensions that are 1 in the smaller array.\n",
    "For example: a 2D array can be broadcast with a 1D array, but a 2D array cannot be broadcast with a 3D array.\n",
    "Shape must be compatible.\n",
    "The shapes of the two arrays must be compatible, which means that the corresponding dimensions must have the same size or one of the sizes must be 1.\n",
    "For example, a (3, 4) array can be broadcast with a (1, 4) array, but a (3, 4) arraycannot be broadcast with a (2, 4) array.\"\"\" \n",
    "#Code Example\n",
    "import numpy as np\n",
    "a = np.array([1, 2, 3])\n",
    "b = 5\n",
    "c = a + b\n",
    "print(c)"
   ]
  },
  {
   "cell_type": "markdown",
   "id": "9b32fc34",
   "metadata": {},
   "source": [
    "# Question no:3 Part (E)"
   ]
  },
  {
   "cell_type": "code",
   "execution_count": 48,
   "id": "f4ea1aa7",
   "metadata": {},
   "outputs": [
    {
     "name": "stdout",
     "output_type": "stream",
     "text": [
      "Original array is : [ 2  4  6  8 10]\n",
      "Squared array is : [  4  16  36  64 100]\n"
     ]
    }
   ],
   "source": [
    "import numpy as np\n",
    "Array = np.array([2, 4, 6, 8, 10])\n",
    "# Square every element in the array\n",
    "Doubled_Array =Array ** 2#store square of array into another array\n",
    "print(\"Original array is :\",Array)\n",
    "print(\"Squared array is :\", Doubled_Array)"
   ]
  },
  {
   "cell_type": "markdown",
   "id": "4e9b01b4",
   "metadata": {},
   "source": [
    "# Question 4: Part (A)"
   ]
  },
  {
   "cell_type": "code",
   "execution_count": 13,
   "id": "b5e7f1da",
   "metadata": {},
   "outputs": [
    {
     "name": "stdout",
     "output_type": "stream",
     "text": [
      "First 5 rows of the dataset:\n",
      "  Series_reference   Period  Data_value Suppressed STATUS\n",
      "0      BDCQ.SEA1AA  2011.06     80078.0        NaN      F\n",
      "1      BDCQ.SEA1AA  2011.09     78324.0        NaN      F\n",
      "2      BDCQ.SEA1AA  2011.12     85850.0        NaN      F\n",
      "3      BDCQ.SEA1AA  2012.03     90743.0        NaN      F\n",
      "4      BDCQ.SEA1AA  2012.06     81780.0        NaN      F\n"
     ]
    }
   ],
   "source": [
    "import pandas as pd \n",
    "df = pd.read_csv(\"data.csv\")\n",
    "# Display the first 5 rows by default in the DataFrame\n",
    "print(\"First 5 rows of the dataset:\")\n",
    "print(df.head())"
   ]
  },
  {
   "cell_type": "markdown",
   "id": "6f32b69d",
   "metadata": {},
   "source": [
    "# Question 4: Part (B)"
   ]
  },
  {
   "cell_type": "code",
   "execution_count": 11,
   "id": "d113559a",
   "metadata": {},
   "outputs": [
    {
     "name": "stdout",
     "output_type": "stream",
     "text": [
      "Original Dataset is:\n",
      "        Name   Age   GPA\n",
      "0      John  17.9  2.71\n",
      "1      Jane  18.1  3.73\n",
      "2     Sarah  17.6  2.64\n",
      "3     Frank  32.1  3.68\n",
      "4      Mike  18.2  3.46\n",
      "5  Jennifer  35.0  4.24\n",
      "6   Jessica  37.3   NaN\n",
      "7      Fred  19.2  2.54\n",
      "8       Bob  34.0  3.24\n",
      "\n",
      "Rows where Age is greater than 30:\n",
      "       Name   Age   GPA\n",
      "3     Frank  32.1  3.68\n",
      "5  Jennifer  35.0  4.24\n",
      "6   Jessica  37.3   NaN\n",
      "8       Bob  34.0  3.24\n"
     ]
    }
   ],
   "source": [
    "import pandas as pd\n",
    "Data = pd.read_csv(\"students data.csv\")\n",
    "df = pd.DataFrame(Data)\n",
    "print(\"Original Dataset is:\\n\",df)\n",
    "# Filter and select rows where the Age column is greater than 30\n",
    "filtered_df = df[df['Age'] > 30]\n",
    "print(\"\\nRows where Age is greater than 30:\")\n",
    "print(filtered_df)"
   ]
  },
  {
   "cell_type": "markdown",
   "id": "009aeea4",
   "metadata": {},
   "source": [
    "# Question 4: Part (C)"
   ]
  },
  {
   "cell_type": "code",
   "execution_count": 18,
   "id": "c0954521",
   "metadata": {},
   "outputs": [
    {
     "name": "stdout",
     "output_type": "stream",
     "text": [
      "Total sales in each region:\n",
      "Region\n",
      "Asia                                  59967\n",
      "Australia and Oceania                 68325\n",
      "Central America and the Caribbean     35771\n",
      "Europe                                98117\n",
      "Middle East and North Africa          48678\n",
      "North America                         19143\n",
      "Sub-Saharan Africa                   177503\n",
      "Name: Sales, dtype: int64\n"
     ]
    }
   ],
   "source": [
    "import pandas as pd\n",
    "Data = pd.read_csv(\"100 Sales Records.csv\")\n",
    "df = pd.DataFrame(Data)\n",
    "# Group the data by the Region column and calculate total sales in each region\n",
    "total_sales = df.groupby('Region')['Sales'].sum()\n",
    "print(\"Total sales in each region:\")\n",
    "print(total_sales)"
   ]
  },
  {
   "cell_type": "markdown",
   "id": "f754c9dd",
   "metadata": {},
   "source": [
    "# Question 4: Part(D)"
   ]
  },
  {
   "cell_type": "code",
   "execution_count": 2,
   "id": "8c993e8b",
   "metadata": {},
   "outputs": [
    {
     "name": "stdout",
     "output_type": "stream",
     "text": [
      "Customer DataFrame:\n",
      "   CustomerID      Name\n",
      "0           1     Hanan\n",
      "1           2     Manan\n",
      "2           3   Taimoor\n",
      "3           4  Abdullah\n",
      "4           5     Qasim\n",
      "\n",
      "Order DataFrame:\n",
      "   OrderID  CustomerID\n",
      "0      101           1\n",
      "1      102           2\n",
      "2      103           3\n",
      "3      104           4\n",
      "4      105           5\n",
      "\n",
      "Merged DataFrame:\n",
      "   CustomerID      Name  OrderID\n",
      "0           1     Hanan      101\n",
      "1           2     Manan      102\n",
      "2           3   Taimoor      103\n",
      "3           4  Abdullah      104\n",
      "4           5     Qasim      105\n"
     ]
    }
   ],
   "source": [
    "import pandas as pd\n",
    "#Data Frame 1\n",
    "customer_data = {\n",
    "    'CustomerID': [1, 2, 3, 4, 5],\n",
    "    'Name': ['Hanan', 'Manan', 'Taimoor', 'Abdullah', 'Qasim']\n",
    "}\n",
    "#Data Frame 2\n",
    "order_data = {\n",
    "    'OrderID': [101, 102, 103, 104, 105],\n",
    "    'CustomerID': [1, 2, 3, 4, 5]\n",
    "}\n",
    "customer_df = pd.DataFrame(customer_data)\n",
    "order_df = pd.DataFrame(order_data)\n",
    "# Display the customer DataFrame\n",
    "print(\"Customer DataFrame:\")\n",
    "print(customer_df)\n",
    "# Display the order DataFrame\n",
    "print(\"\\nOrder DataFrame:\")\n",
    "print(order_df)\n",
    "# Perform an inner join to combine data based on the CustomerID column\n",
    "merged_df = pd.merge(customer_df, order_df, on='CustomerID', how='inner')\n",
    "# Display the result\n",
    "print(\"\\nMerged DataFrame:\")\n",
    "print(merged_df)"
   ]
  }
 ],
 "metadata": {
  "kernelspec": {
   "display_name": "Python 3 (ipykernel)",
   "language": "python",
   "name": "python3"
  },
  "language_info": {
   "codemirror_mode": {
    "name": "ipython",
    "version": 3
   },
   "file_extension": ".py",
   "mimetype": "text/x-python",
   "name": "python",
   "nbconvert_exporter": "python",
   "pygments_lexer": "ipython3",
   "version": "3.11.4"
  }
 },
 "nbformat": 4,
 "nbformat_minor": 5
}

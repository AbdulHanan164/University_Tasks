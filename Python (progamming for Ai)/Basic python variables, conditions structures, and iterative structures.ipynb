{
 "cells": [
  {
   "cell_type": "code",
   "execution_count": null,
   "id": "1266ce75",
   "metadata": {},
   "outputs": [],
   "source": [
    "#Task no 1:\n",
    "length=int(input(\"Enter length of Area :\"))\n",
    "width=int(input(\"Enter width of Area :\"))\n",
    "area=width*length\n",
    "print(\"Area is :\",area)\n"
   ]
  },
  {
   "cell_type": "code",
   "execution_count": null,
   "id": "ff7ead1a",
   "metadata": {},
   "outputs": [],
   "source": [
    "#Task no 2:\n",
    "Total=400\n",
    "Urdu=int(input(\"Enter Marks of Urdu out of 100:\"))\n",
    "English=int(input(\"Enter Marks of English out of 100:\"))\n",
    "Science=int(input(\"Enter Marks of Science out of 100:\"))\n",
    "Math=int(input(\"Enter Marks of Math out of 100:\"))\n",
    "Obtained=Urdu+English+Science+Math\n",
    "print(\"Obtained Marks are: \",Obtained)\n",
    "Percentage=(Obtained/Total)*100\n",
    "print(\"Percentage is :\",Percentage)\n"
   ]
  },
  {
   "cell_type": "code",
   "execution_count": null,
   "id": "38377a46",
   "metadata": {},
   "outputs": [],
   "source": [
    "#Task no 3\n",
    "Amount=int(input(\"Enter your bank amount :\"))\n",
    "Year=int(input(\"Enter Numbers of years:\"))\n",
    "Rate=int(input(\"Enter Rate :\"))\n",
    "Interest=((Amount*Year*Rate)/100)\n",
    "print(\"Interest of Bank is :\",Interest)\n"
   ]
  },
  {
   "cell_type": "code",
   "execution_count": null,
   "id": "ed9fc730",
   "metadata": {},
   "outputs": [],
   "source": [
    "#Task no 4\n",
    "Fahrenheit=int(input(\"Enter your Fahrenheit :\"))\n",
    "Celsius=(5/9*(Fahrenheit-32))\n",
    "print(\"Fahrenheit into Celsius is :\",Celsius)\n"
   ]
  },
  {
   "cell_type": "code",
   "execution_count": null,
   "id": "dd027c03",
   "metadata": {},
   "outputs": [],
   "source": [
    "#Task no 5:\n",
    "length=int(input(\"Enter length of Rectangle Area :\"))\n",
    "width=int(input(\"Enter width of Rectangle Area :\"))\n",
    "Perimeter=(2*(length*width))\n",
    "print(\"Perimeter of Rectangle is :\",Perimeter)\n"
   ]
  },
  {
   "cell_type": "code",
   "execution_count": null,
   "id": "cba3d9dd",
   "metadata": {},
   "outputs": [],
   "source": [
    "#Task 6\n",
    "Shirt_Price=550\n",
    "Discount_Price=(550*10)/100\n",
    "Total_Price=Shirt_Price-Discount_Price\n",
    "print(\"Total price of shirt after discount is :\",Total_Price)\n"
   ]
  },
  {
   "cell_type": "code",
   "execution_count": null,
   "id": "2d27ebae",
   "metadata": {},
   "outputs": [],
   "source": [
    "#Task no 7:\n",
    "Retail_Price=int(input(\"Enter your Retail Sale amount :\"))\n",
    "Sales_Tax_Rate=int(input(\"Enter the Sales Tax:\"))\n",
    "Sales_tax=Retail_Price*(Sales_Tax_Rate/100)\n",
    "Total_Sales=Retail_Price+Sales_tax\n",
    "print(\"Sales Tax rate is: \",Sales_tax)\n",
    "print(\"Total Sales is; \",Total_Sales)\n"
   ]
  },
  {
   "cell_type": "code",
   "execution_count": null,
   "id": "4a3d1be6",
   "metadata": {},
   "outputs": [],
   "source": [
    "#Task no 8:\n",
    "Keyboard_Price=200\n",
    "Mouse=150\n",
    "Total_Bill=(Keyboard_Price+Mouse)*303\n",
    "print(\"Total Bill from Dollar $ to PKR\", Total_Bill)\n"
   ]
  },
  {
   "cell_type": "code",
   "execution_count": null,
   "id": "00696b6a",
   "metadata": {},
   "outputs": [],
   "source": [
    "#Task no 9:\n",
    "Starting_Balance=int(input(\"Enter your Starting Balance :\"))\n",
    "Deposit_Made=int(input(\"Enter the Total Amount of Deposit made:\"))\n",
    "Total_withDrawals=int(input(\"Enter the Total Numbers of  withdrawals made: \"))\n",
    "Current_Balance=(Starting_Balance+Deposit_Made)-Total_withDrawals\n",
    "print(\"Your Current Balance is :\",Current_Balance)\n"
   ]
  },
  {
   "cell_type": "code",
   "execution_count": null,
   "id": "9b1effca",
   "metadata": {},
   "outputs": [],
   "source": [
    "#Task 10\n",
    "Age=int(input(\"Enter age of the candidate ?\"))\n",
    "if Age>=18:\n",
    "    print(\"You are Eiligble for vote casting :\")\n",
    "else:\n",
    "    print(\"You are no Eiligble for vote casting :\")\n"
   ]
  },
  {
   "cell_type": "code",
   "execution_count": null,
   "id": "6b0f8ddb",
   "metadata": {},
   "outputs": [],
   "source": [
    "#Task no 11:\n",
    "Electricity_unit=int(input(\"Enter Electricity unit :\"))\n",
    "if Electricity_unit<=50:\n",
    "    print(\"Your Electricity Bill is :\",Electricity_unit*0.50)\n",
    "elif Electricity_unit<=100 and Electricity_unit>50:\n",
    "        print(\"Your Electricity Bill is :\",Electricity_unit*0.75)\n",
    "elif Electricity_unit<=200 and Electricity_unit>100:                                                                                                                                                                     \n",
    "        print(\"Your Electricity Bill is :\",Electricity_unit*1.20)\n",
    "elif Electricity_unit>250 :                                                                                                                                                                    \n",
    "        print(\"Your Electricity Bill is :\",Electricity_unit*1.50)\n"
   ]
  },
  {
   "cell_type": "code",
   "execution_count": null,
   "id": "8030c234",
   "metadata": {},
   "outputs": [],
   "source": [
    "#Task no 12\n",
    "number_Of_Sides = int(input(\"Enter a number of Sides: \"))         \n",
    "if number_Of_Sides==0:\n",
    "    Radius = float(input(\"Enter a  Radius\")\n",
    "    circle=3.14*(Radius*Radius)\n",
    "    print(\"Area of the circle is :\",circle)\n",
    "elif number_Of_Sides==3:\n",
    "    Base = float(input(\"Enter Base of Triangle \")\n",
    "    Height = float(input(\"Enter Height of Triangle \")\n",
    "    Triangle=0.5*(Base*Height)\n",
    "    print(\"Area of the Triangle is :\",Triangle)     \n"
   ]
  },
  {
   "cell_type": "code",
   "execution_count": null,
   "id": "179e1ca3",
   "metadata": {},
   "outputs": [],
   "source": [
    "#Task 13\n",
    "number = int(input(\"Enter a number to check if it's a perfect number or not: \"))\n",
    "\n",
    "Perfect_Num = 0\n",
    "for i in range(1, number):\n",
    "    if number % i == 0:\n",
    "        Perfect_Num += i\n",
    "\n",
    "if Perfect_Num == number:\n",
    "    print(\"Perfect number is:\", Perfect_Num)\n",
    "else:\n",
    "    print(\"Not a perfect number.\")\n"
   ]
  },
  {
   "cell_type": "code",
   "execution_count": null,
   "id": "3b37e15e",
   "metadata": {},
   "outputs": [],
   "source": [
    "#Task no 14:\n",
    "number = int(input(\"Enter a number to check if it's a perfect number or not: \"))\n",
    "Ending_number = int(input(\"Enter a Ending number to check if it's a perfect number or not: \"))\n",
    "\n",
    "for i in range(number, Ending_number):\n",
    "    Perfect_Num = 0\n",
    "    if number % i == 0:\n",
    "        Perfect_Num += i\n",
    "if Perfect_Num == number:\n",
    "    print(\"Perfect number is:\", Perfect_Num)\n",
    "else:\n",
    "    print(\"Not a perfect number.\")\n"
   ]
  },
  {
   "cell_type": "code",
   "execution_count": null,
   "id": "ee46f0b1",
   "metadata": {},
   "outputs": [],
   "source": [
    "#Task no 15\n",
    "number = int(input(\"Enter a number : \"))\n",
    "sqr=0\n",
    "Sqr_sum=0\n",
    "for i in range(1,number+1):\n",
    "    sqr=i*i\n",
    "    Sqr_sum+=sqr\n",
    "    print(\"Square of numbers are :\",sqr)\n"
   ]
  }
 ],
 "metadata": {
  "kernelspec": {
   "display_name": "Python 3 (ipykernel)",
   "language": "python",
   "name": "python3"
  },
  "language_info": {
   "codemirror_mode": {
    "name": "ipython",
    "version": 3
   },
   "file_extension": ".py",
   "mimetype": "text/x-python",
   "name": "python",
   "nbconvert_exporter": "python",
   "pygments_lexer": "ipython3",
   "version": "3.11.4"
  }
 },
 "nbformat": 4,
 "nbformat_minor": 5
}

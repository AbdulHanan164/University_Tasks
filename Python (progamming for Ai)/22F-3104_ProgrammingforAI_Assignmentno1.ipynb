{
 "cells": [
  {
   "cell_type": "code",
   "execution_count": 6,
   "id": "3766a87b",
   "metadata": {},
   "outputs": [
    {
     "name": "stdout",
     "output_type": "stream",
     "text": [
      "Input the string: hh\n",
      "0\n"
     ]
    }
   ],
   "source": [
    "str_input = input(\"Input the string: \")\n",
    "# Create an empty dictionary to count characters\n",
    "char_count = {}\n",
    "for char in str_input:\n",
    "    # Check if the character is a letter lowercase or uppercase\n",
    "    if ('a' <= char <= 'z' or 'A' <= char <= 'Z' ):       \n",
    "        # If the character is not already in the dictionary, initialize its count to 0\n",
    "        char_count[char] = char_count.get(char, 0) + 1\n",
    "\n",
    "# Initialize two variables to count even and odd characters\n",
    "even_count = 0\n",
    "odd_count = 0\n",
    "\n",
    "for count in char_count.values():\n",
    "    # Check if the frequency is even, else it's odd\n",
    "    if count % 2 == 0:       \n",
    "        even_count += 1\n",
    "    else:\n",
    "        odd_count += 1\n",
    "# Check if the number of characters with even frequency is equal to the total number of characters in the string\n",
    "if even_count == len(char_count):    \n",
    "    print(\"0\")\n",
    "elif odd_count ==len(char_count):\n",
    "    # If at least one character has odd frequency the string is odd.\n",
    "    print(\"1\")\n",
    "else:\n",
    "    # Print string is neither even nor odd.\n",
    "    print(\"2\")"
   ]
  },
  {
   "cell_type": "code",
   "execution_count": 2,
   "id": "4b9ee5f1",
   "metadata": {},
   "outputs": [
    {
     "name": "stdout",
     "output_type": "stream",
     "text": [
      "Enter Credit card number: 513467882134\n",
      "Total: 52\n",
      "513467882134 Credit card number is invalid.\n"
     ]
    }
   ],
   "source": [
    "credit_card = input(\"Enter Credit card number: \")\n",
    "num_list = []\n",
    "double_list = []\n",
    "total = 0\n",
    "# Iterate over the credit card number and append each digit to num_list\n",
    "for i in range(0, len(credit_card)):\n",
    "    num_list.append(credit_card[i])\n",
    "# Slice from the right side by using negative indexing\n",
    "slice_list1 = num_list[-2::-2]\n",
    "slice_list2 = num_list[-1::-2]\n",
    "# Double the digits in slice_list1 and add them to double_list\n",
    "for i in slice_list1:\n",
    "    double_num = int(i) * 2\n",
    "    if double_num >= 10:\n",
    "        double_num -= 9\n",
    "    double_list.append(str(double_num))  # Convert the result back to a string\n",
    "# Calculate the sum of the digits in double_list and the digits in slice_list2\n",
    "total = sum(int(digit) for digit in double_list) + sum(int(digit) for digit in slice_list2)\n",
    "print(\"Total:\", total)\n",
    "# Check if the total is a multiple of 10\n",
    "# Print the entire credit card number without commas and spaces\n",
    "print(''.join(num_list),end=' ')\n",
    "if total % 10 == 0:\n",
    "    print(\"Credit card number is valid.\")\n",
    "else:\n",
    "    print(\"Credit card number is invalid.\")\n"
   ]
  },
  {
   "cell_type": "code",
   "execution_count": 4,
   "id": "c37630e4",
   "metadata": {},
   "outputs": [
    {
     "name": "stdout",
     "output_type": "stream",
     "text": [
      "Enter Range: 23\n",
      "Enter number: 23\n",
      "23 is a prime number\n"
     ]
    }
   ],
   "source": [
    "Range = int(input(\"Enter Range: \"))\n",
    "num = int(input(\"Enter number: \"))\n",
    "count = 0\n",
    "for i in range(1, Range + 1):\n",
    "    if num % i == 0:\n",
    "        count += 1\n",
    "if count == 2:\n",
    "    print(f\"{num} is a prime number\")\n",
    "else:\n",
    "    print(f\"{num} is not a prime number\")\n",
    "    "
   ]
  },
  {
   "cell_type": "code",
   "execution_count": null,
   "id": "dbcb73e1",
   "metadata": {},
   "outputs": [],
   "source": []
  },
  {
   "cell_type": "code",
   "execution_count": null,
   "id": "3d9fee6f",
   "metadata": {},
   "outputs": [],
   "source": []
  }
 ],
 "metadata": {
  "kernelspec": {
   "display_name": "Python 3 (ipykernel)",
   "language": "python",
   "name": "python3"
  },
  "language_info": {
   "codemirror_mode": {
    "name": "ipython",
    "version": 3
   },
   "file_extension": ".py",
   "mimetype": "text/x-python",
   "name": "python",
   "nbconvert_exporter": "python",
   "pygments_lexer": "ipython3",
   "version": "3.11.4"
  }
 },
 "nbformat": 4,
 "nbformat_minor": 5
}

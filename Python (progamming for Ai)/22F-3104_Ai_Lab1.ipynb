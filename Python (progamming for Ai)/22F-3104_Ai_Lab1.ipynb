{
 "cells": [
  {
   "cell_type": "code",
   "execution_count": 14,
   "id": "9fbcc30a",
   "metadata": {},
   "outputs": [
    {
     "name": "stdout",
     "output_type": "stream",
     "text": [
      "Adjacency Matrix is:\n",
      "[0, 1, 1, 5]\n",
      "[1, 0, 3, 0]\n",
      "[1, 3, 0, 4]\n",
      "[5, 0, 4, 0]\n"
     ]
    }
   ],
   "source": [
    "def add_vertex(v):#add vertex to the graph\n",
    "    global graph\n",
    "    global vertex_no\n",
    "    if v in graph:#it check vertex already exist in the graph\n",
    "        print(\"Vertex already in the graph\")\n",
    "    else:\n",
    "        vertex_no = vertex_no + 1\n",
    "        graph[v] = []\n",
    "# Adding edge\n",
    "def add_edge(v1, v2, e):#Add edge in the list \n",
    "    global graph\n",
    "    if v1 not in graph:#if source vertex  is not int the graph\n",
    "        print(\"Vertex not exist\")\n",
    "    elif v2 not in graph:#if destination vertex is not in the graph\n",
    "        print(\"Vertex not exist\")\n",
    "    else:\n",
    "        temp1 = [v2, e]#create a temp variable which store edge and vertex of source vertex\n",
    "        temp2 = [v1, e]#create a temp varaible which store edge and vertex of destination vertex\n",
    "        graph[v1].append(temp1)\n",
    "        graph[v2].append(temp2)\n",
    "def print_matrix():#print the graph of the adjanecy matrix\n",
    "    global graph\n",
    "    matrix_size = vertex_no + 1#it will the size of the matrix\n",
    "    adjacency_matrix = []\n",
    "    for i in range(matrix_size):#it will run to the lenght of the matrix\n",
    "        row = [0] * matrix_size#it will intialize all rows with a zero\n",
    "        adjacency_matrix.append(row)\n",
    "    for vertex in graph:\n",
    "        for edge in graph[vertex]:\n",
    "            v2, weight = edge\n",
    "            adjacency_matrix[vertex][v2] = weight#it will be for directed graph\n",
    "            adjacency_matrix[v2][vertex] = weight#if we do this this is for undirected graph\n",
    "\n",
    "    for row in adjacency_matrix[1:]:#slicing the first row and column\n",
    "        print(row[1:])\n",
    "\n",
    "if __name__ == '__main__':\n",
    "    graph = {}\n",
    "    vertex_no = 0\n",
    "    add_vertex(1)\n",
    "    add_vertex(2)\n",
    "    add_vertex(3)\n",
    "    add_vertex(4)\n",
    "    add_edge(1, 2, 1)\n",
    "    add_edge(1, 3, 1)\n",
    "    add_edge(2, 3, 3)\n",
    "    add_edge(3, 4, 4)\n",
    "    add_edge(4, 1, 5)\n",
    "    print(\"Adjacency Matrix is:\")\n",
    "    print_matrix()"
   ]
  },
  {
   "cell_type": "code",
   "execution_count": null,
   "id": "0600872c",
   "metadata": {},
   "outputs": [],
   "source": []
  }
 ],
 "metadata": {
  "kernelspec": {
   "display_name": "Python 3 (ipykernel)",
   "language": "python",
   "name": "python3"
  },
  "language_info": {
   "codemirror_mode": {
    "name": "ipython",
    "version": 3
   },
   "file_extension": ".py",
   "mimetype": "text/x-python",
   "name": "python",
   "nbconvert_exporter": "python",
   "pygments_lexer": "ipython3",
   "version": "3.11.4"
  }
 },
 "nbformat": 4,
 "nbformat_minor": 5
}
